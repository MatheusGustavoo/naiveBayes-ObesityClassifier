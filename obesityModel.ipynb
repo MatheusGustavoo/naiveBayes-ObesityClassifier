{
 "cells": [
  {
   "cell_type": "code",
   "execution_count": 2,
   "metadata": {},
   "outputs": [],
   "source": [
    "# EDA\n",
    "import pandas as pd\n",
    "import statsmodels.api as sm\n",
    "import plotly.express as px\n",
    "import plotly.figure_factory as ff\n",
    "import matplotlib.pyplot as plt\n",
    "# import sweetviz as sv\n",
    "\n",
    "# ML\n",
    "from sklearn.model_selection import train_test_split\n",
    "from sklearn.feature_selection import SelectKBest, chi2\n",
    "from sklearn.metrics import classification_report, confusion_matrix, ConfusionMatrixDisplay, recall_score\n",
    "\n",
    "# Hyperparameter optimization\n",
    "import optuna"
   ]
  },
  {
   "cell_type": "code",
   "execution_count": 3,
   "metadata": {},
   "outputs": [],
   "source": [
    "# Data load\n",
    "\n",
    "df_obesity = pd.read_csv(\"./datasets/ObesityDataSet_raw_and_data_sinthetic.csv\")"
   ]
  },
  {
   "cell_type": "code",
   "execution_count": 39,
   "metadata": {},
   "outputs": [
    {
     "data": {
      "text/html": [
       "<div>\n",
       "<style scoped>\n",
       "    .dataframe tbody tr th:only-of-type {\n",
       "        vertical-align: middle;\n",
       "    }\n",
       "\n",
       "    .dataframe tbody tr th {\n",
       "        vertical-align: top;\n",
       "    }\n",
       "\n",
       "    .dataframe thead th {\n",
       "        text-align: right;\n",
       "    }\n",
       "</style>\n",
       "<table border=\"1\" class=\"dataframe\">\n",
       "  <thead>\n",
       "    <tr style=\"text-align: right;\">\n",
       "      <th></th>\n",
       "      <th>Gender</th>\n",
       "      <th>Age</th>\n",
       "      <th>Height</th>\n",
       "      <th>Weight</th>\n",
       "      <th>family_history_with_overweight</th>\n",
       "      <th>FAVC</th>\n",
       "      <th>FCVC</th>\n",
       "      <th>NCP</th>\n",
       "      <th>CAEC</th>\n",
       "      <th>SMOKE</th>\n",
       "      <th>CH2O</th>\n",
       "      <th>SCC</th>\n",
       "      <th>FAF</th>\n",
       "      <th>TUE</th>\n",
       "      <th>CALC</th>\n",
       "      <th>MTRANS</th>\n",
       "      <th>NObeyesdad</th>\n",
       "      <th>age_group</th>\n",
       "      <th>age_group_string</th>\n",
       "    </tr>\n",
       "  </thead>\n",
       "  <tbody>\n",
       "    <tr>\n",
       "      <th>0</th>\n",
       "      <td>Female</td>\n",
       "      <td>21</td>\n",
       "      <td>1.62</td>\n",
       "      <td>64.0</td>\n",
       "      <td>yes</td>\n",
       "      <td>no</td>\n",
       "      <td>2</td>\n",
       "      <td>3</td>\n",
       "      <td>Sometimes</td>\n",
       "      <td>no</td>\n",
       "      <td>2</td>\n",
       "      <td>no</td>\n",
       "      <td>0</td>\n",
       "      <td>1</td>\n",
       "      <td>no</td>\n",
       "      <td>Public_Transportation</td>\n",
       "      <td>Normal_Weight</td>\n",
       "      <td>1</td>\n",
       "      <td>20-30</td>\n",
       "    </tr>\n",
       "    <tr>\n",
       "      <th>1</th>\n",
       "      <td>Female</td>\n",
       "      <td>21</td>\n",
       "      <td>1.52</td>\n",
       "      <td>56.0</td>\n",
       "      <td>yes</td>\n",
       "      <td>no</td>\n",
       "      <td>3</td>\n",
       "      <td>3</td>\n",
       "      <td>Sometimes</td>\n",
       "      <td>yes</td>\n",
       "      <td>3</td>\n",
       "      <td>yes</td>\n",
       "      <td>3</td>\n",
       "      <td>0</td>\n",
       "      <td>Sometimes</td>\n",
       "      <td>Public_Transportation</td>\n",
       "      <td>Normal_Weight</td>\n",
       "      <td>1</td>\n",
       "      <td>20-30</td>\n",
       "    </tr>\n",
       "    <tr>\n",
       "      <th>2</th>\n",
       "      <td>Male</td>\n",
       "      <td>23</td>\n",
       "      <td>1.80</td>\n",
       "      <td>77.0</td>\n",
       "      <td>yes</td>\n",
       "      <td>no</td>\n",
       "      <td>2</td>\n",
       "      <td>3</td>\n",
       "      <td>Sometimes</td>\n",
       "      <td>no</td>\n",
       "      <td>2</td>\n",
       "      <td>no</td>\n",
       "      <td>2</td>\n",
       "      <td>1</td>\n",
       "      <td>Frequently</td>\n",
       "      <td>Public_Transportation</td>\n",
       "      <td>Normal_Weight</td>\n",
       "      <td>1</td>\n",
       "      <td>20-30</td>\n",
       "    </tr>\n",
       "    <tr>\n",
       "      <th>3</th>\n",
       "      <td>Male</td>\n",
       "      <td>27</td>\n",
       "      <td>1.80</td>\n",
       "      <td>87.0</td>\n",
       "      <td>no</td>\n",
       "      <td>no</td>\n",
       "      <td>3</td>\n",
       "      <td>3</td>\n",
       "      <td>Sometimes</td>\n",
       "      <td>no</td>\n",
       "      <td>2</td>\n",
       "      <td>no</td>\n",
       "      <td>2</td>\n",
       "      <td>0</td>\n",
       "      <td>Frequently</td>\n",
       "      <td>Walking</td>\n",
       "      <td>Overweight_Level_I</td>\n",
       "      <td>1</td>\n",
       "      <td>20-30</td>\n",
       "    </tr>\n",
       "    <tr>\n",
       "      <th>4</th>\n",
       "      <td>Male</td>\n",
       "      <td>22</td>\n",
       "      <td>1.78</td>\n",
       "      <td>89.8</td>\n",
       "      <td>no</td>\n",
       "      <td>no</td>\n",
       "      <td>2</td>\n",
       "      <td>1</td>\n",
       "      <td>Sometimes</td>\n",
       "      <td>no</td>\n",
       "      <td>2</td>\n",
       "      <td>no</td>\n",
       "      <td>0</td>\n",
       "      <td>0</td>\n",
       "      <td>Sometimes</td>\n",
       "      <td>Public_Transportation</td>\n",
       "      <td>Overweight_Level_II</td>\n",
       "      <td>1</td>\n",
       "      <td>20-30</td>\n",
       "    </tr>\n",
       "    <tr>\n",
       "      <th>5</th>\n",
       "      <td>Male</td>\n",
       "      <td>29</td>\n",
       "      <td>1.62</td>\n",
       "      <td>53.0</td>\n",
       "      <td>no</td>\n",
       "      <td>yes</td>\n",
       "      <td>2</td>\n",
       "      <td>3</td>\n",
       "      <td>Sometimes</td>\n",
       "      <td>no</td>\n",
       "      <td>2</td>\n",
       "      <td>no</td>\n",
       "      <td>0</td>\n",
       "      <td>0</td>\n",
       "      <td>Sometimes</td>\n",
       "      <td>Automobile</td>\n",
       "      <td>Normal_Weight</td>\n",
       "      <td>1</td>\n",
       "      <td>20-30</td>\n",
       "    </tr>\n",
       "    <tr>\n",
       "      <th>6</th>\n",
       "      <td>Female</td>\n",
       "      <td>23</td>\n",
       "      <td>1.50</td>\n",
       "      <td>55.0</td>\n",
       "      <td>yes</td>\n",
       "      <td>yes</td>\n",
       "      <td>3</td>\n",
       "      <td>3</td>\n",
       "      <td>Sometimes</td>\n",
       "      <td>no</td>\n",
       "      <td>2</td>\n",
       "      <td>no</td>\n",
       "      <td>1</td>\n",
       "      <td>0</td>\n",
       "      <td>Sometimes</td>\n",
       "      <td>Motorbike</td>\n",
       "      <td>Normal_Weight</td>\n",
       "      <td>1</td>\n",
       "      <td>20-30</td>\n",
       "    </tr>\n",
       "    <tr>\n",
       "      <th>7</th>\n",
       "      <td>Male</td>\n",
       "      <td>22</td>\n",
       "      <td>1.64</td>\n",
       "      <td>53.0</td>\n",
       "      <td>no</td>\n",
       "      <td>no</td>\n",
       "      <td>2</td>\n",
       "      <td>3</td>\n",
       "      <td>Sometimes</td>\n",
       "      <td>no</td>\n",
       "      <td>2</td>\n",
       "      <td>no</td>\n",
       "      <td>3</td>\n",
       "      <td>0</td>\n",
       "      <td>Sometimes</td>\n",
       "      <td>Public_Transportation</td>\n",
       "      <td>Normal_Weight</td>\n",
       "      <td>1</td>\n",
       "      <td>20-30</td>\n",
       "    </tr>\n",
       "    <tr>\n",
       "      <th>8</th>\n",
       "      <td>Male</td>\n",
       "      <td>24</td>\n",
       "      <td>1.78</td>\n",
       "      <td>64.0</td>\n",
       "      <td>yes</td>\n",
       "      <td>yes</td>\n",
       "      <td>3</td>\n",
       "      <td>3</td>\n",
       "      <td>Sometimes</td>\n",
       "      <td>no</td>\n",
       "      <td>2</td>\n",
       "      <td>no</td>\n",
       "      <td>1</td>\n",
       "      <td>1</td>\n",
       "      <td>Frequently</td>\n",
       "      <td>Public_Transportation</td>\n",
       "      <td>Normal_Weight</td>\n",
       "      <td>1</td>\n",
       "      <td>20-30</td>\n",
       "    </tr>\n",
       "    <tr>\n",
       "      <th>9</th>\n",
       "      <td>Male</td>\n",
       "      <td>22</td>\n",
       "      <td>1.72</td>\n",
       "      <td>68.0</td>\n",
       "      <td>yes</td>\n",
       "      <td>yes</td>\n",
       "      <td>2</td>\n",
       "      <td>3</td>\n",
       "      <td>Sometimes</td>\n",
       "      <td>no</td>\n",
       "      <td>2</td>\n",
       "      <td>no</td>\n",
       "      <td>1</td>\n",
       "      <td>1</td>\n",
       "      <td>no</td>\n",
       "      <td>Public_Transportation</td>\n",
       "      <td>Normal_Weight</td>\n",
       "      <td>1</td>\n",
       "      <td>20-30</td>\n",
       "    </tr>\n",
       "    <tr>\n",
       "      <th>10</th>\n",
       "      <td>Male</td>\n",
       "      <td>26</td>\n",
       "      <td>1.85</td>\n",
       "      <td>105.0</td>\n",
       "      <td>yes</td>\n",
       "      <td>yes</td>\n",
       "      <td>3</td>\n",
       "      <td>3</td>\n",
       "      <td>Frequently</td>\n",
       "      <td>no</td>\n",
       "      <td>3</td>\n",
       "      <td>no</td>\n",
       "      <td>2</td>\n",
       "      <td>2</td>\n",
       "      <td>Sometimes</td>\n",
       "      <td>Public_Transportation</td>\n",
       "      <td>Obesity_Type_I</td>\n",
       "      <td>1</td>\n",
       "      <td>20-30</td>\n",
       "    </tr>\n",
       "    <tr>\n",
       "      <th>11</th>\n",
       "      <td>Female</td>\n",
       "      <td>21</td>\n",
       "      <td>1.72</td>\n",
       "      <td>80.0</td>\n",
       "      <td>yes</td>\n",
       "      <td>yes</td>\n",
       "      <td>2</td>\n",
       "      <td>3</td>\n",
       "      <td>Frequently</td>\n",
       "      <td>no</td>\n",
       "      <td>2</td>\n",
       "      <td>yes</td>\n",
       "      <td>2</td>\n",
       "      <td>1</td>\n",
       "      <td>Sometimes</td>\n",
       "      <td>Public_Transportation</td>\n",
       "      <td>Overweight_Level_II</td>\n",
       "      <td>1</td>\n",
       "      <td>20-30</td>\n",
       "    </tr>\n",
       "    <tr>\n",
       "      <th>12</th>\n",
       "      <td>Male</td>\n",
       "      <td>22</td>\n",
       "      <td>1.65</td>\n",
       "      <td>56.0</td>\n",
       "      <td>no</td>\n",
       "      <td>no</td>\n",
       "      <td>3</td>\n",
       "      <td>3</td>\n",
       "      <td>Sometimes</td>\n",
       "      <td>no</td>\n",
       "      <td>3</td>\n",
       "      <td>no</td>\n",
       "      <td>2</td>\n",
       "      <td>0</td>\n",
       "      <td>Sometimes</td>\n",
       "      <td>Public_Transportation</td>\n",
       "      <td>Normal_Weight</td>\n",
       "      <td>1</td>\n",
       "      <td>20-30</td>\n",
       "    </tr>\n",
       "    <tr>\n",
       "      <th>13</th>\n",
       "      <td>Male</td>\n",
       "      <td>41</td>\n",
       "      <td>1.80</td>\n",
       "      <td>99.0</td>\n",
       "      <td>no</td>\n",
       "      <td>yes</td>\n",
       "      <td>2</td>\n",
       "      <td>3</td>\n",
       "      <td>Sometimes</td>\n",
       "      <td>no</td>\n",
       "      <td>2</td>\n",
       "      <td>no</td>\n",
       "      <td>2</td>\n",
       "      <td>1</td>\n",
       "      <td>Frequently</td>\n",
       "      <td>Automobile</td>\n",
       "      <td>Obesity_Type_I</td>\n",
       "      <td>3</td>\n",
       "      <td>40-50</td>\n",
       "    </tr>\n",
       "    <tr>\n",
       "      <th>14</th>\n",
       "      <td>Male</td>\n",
       "      <td>23</td>\n",
       "      <td>1.77</td>\n",
       "      <td>60.0</td>\n",
       "      <td>yes</td>\n",
       "      <td>yes</td>\n",
       "      <td>3</td>\n",
       "      <td>1</td>\n",
       "      <td>Sometimes</td>\n",
       "      <td>no</td>\n",
       "      <td>1</td>\n",
       "      <td>no</td>\n",
       "      <td>1</td>\n",
       "      <td>1</td>\n",
       "      <td>Sometimes</td>\n",
       "      <td>Public_Transportation</td>\n",
       "      <td>Normal_Weight</td>\n",
       "      <td>1</td>\n",
       "      <td>20-30</td>\n",
       "    </tr>\n",
       "    <tr>\n",
       "      <th>15</th>\n",
       "      <td>Female</td>\n",
       "      <td>22</td>\n",
       "      <td>1.70</td>\n",
       "      <td>66.0</td>\n",
       "      <td>yes</td>\n",
       "      <td>no</td>\n",
       "      <td>3</td>\n",
       "      <td>3</td>\n",
       "      <td>Always</td>\n",
       "      <td>no</td>\n",
       "      <td>2</td>\n",
       "      <td>yes</td>\n",
       "      <td>2</td>\n",
       "      <td>1</td>\n",
       "      <td>Sometimes</td>\n",
       "      <td>Public_Transportation</td>\n",
       "      <td>Normal_Weight</td>\n",
       "      <td>1</td>\n",
       "      <td>20-30</td>\n",
       "    </tr>\n",
       "    <tr>\n",
       "      <th>16</th>\n",
       "      <td>Male</td>\n",
       "      <td>27</td>\n",
       "      <td>1.93</td>\n",
       "      <td>102.0</td>\n",
       "      <td>yes</td>\n",
       "      <td>yes</td>\n",
       "      <td>2</td>\n",
       "      <td>1</td>\n",
       "      <td>Sometimes</td>\n",
       "      <td>no</td>\n",
       "      <td>1</td>\n",
       "      <td>no</td>\n",
       "      <td>1</td>\n",
       "      <td>0</td>\n",
       "      <td>Sometimes</td>\n",
       "      <td>Public_Transportation</td>\n",
       "      <td>Overweight_Level_II</td>\n",
       "      <td>1</td>\n",
       "      <td>20-30</td>\n",
       "    </tr>\n",
       "    <tr>\n",
       "      <th>17</th>\n",
       "      <td>Female</td>\n",
       "      <td>29</td>\n",
       "      <td>1.53</td>\n",
       "      <td>78.0</td>\n",
       "      <td>no</td>\n",
       "      <td>yes</td>\n",
       "      <td>2</td>\n",
       "      <td>1</td>\n",
       "      <td>Sometimes</td>\n",
       "      <td>no</td>\n",
       "      <td>2</td>\n",
       "      <td>no</td>\n",
       "      <td>0</td>\n",
       "      <td>0</td>\n",
       "      <td>no</td>\n",
       "      <td>Automobile</td>\n",
       "      <td>Obesity_Type_I</td>\n",
       "      <td>1</td>\n",
       "      <td>20-30</td>\n",
       "    </tr>\n",
       "    <tr>\n",
       "      <th>18</th>\n",
       "      <td>Female</td>\n",
       "      <td>30</td>\n",
       "      <td>1.71</td>\n",
       "      <td>82.0</td>\n",
       "      <td>yes</td>\n",
       "      <td>yes</td>\n",
       "      <td>3</td>\n",
       "      <td>4</td>\n",
       "      <td>Frequently</td>\n",
       "      <td>yes</td>\n",
       "      <td>1</td>\n",
       "      <td>no</td>\n",
       "      <td>0</td>\n",
       "      <td>0</td>\n",
       "      <td>no</td>\n",
       "      <td>Automobile</td>\n",
       "      <td>Overweight_Level_II</td>\n",
       "      <td>1</td>\n",
       "      <td>20-30</td>\n",
       "    </tr>\n",
       "    <tr>\n",
       "      <th>19</th>\n",
       "      <td>Female</td>\n",
       "      <td>23</td>\n",
       "      <td>1.65</td>\n",
       "      <td>70.0</td>\n",
       "      <td>yes</td>\n",
       "      <td>no</td>\n",
       "      <td>2</td>\n",
       "      <td>1</td>\n",
       "      <td>Sometimes</td>\n",
       "      <td>no</td>\n",
       "      <td>2</td>\n",
       "      <td>no</td>\n",
       "      <td>0</td>\n",
       "      <td>0</td>\n",
       "      <td>Sometimes</td>\n",
       "      <td>Public_Transportation</td>\n",
       "      <td>Overweight_Level_I</td>\n",
       "      <td>1</td>\n",
       "      <td>20-30</td>\n",
       "    </tr>\n",
       "    <tr>\n",
       "      <th>20</th>\n",
       "      <td>Male</td>\n",
       "      <td>22</td>\n",
       "      <td>1.65</td>\n",
       "      <td>80.0</td>\n",
       "      <td>yes</td>\n",
       "      <td>no</td>\n",
       "      <td>2</td>\n",
       "      <td>3</td>\n",
       "      <td>Sometimes</td>\n",
       "      <td>no</td>\n",
       "      <td>2</td>\n",
       "      <td>no</td>\n",
       "      <td>3</td>\n",
       "      <td>2</td>\n",
       "      <td>no</td>\n",
       "      <td>Walking</td>\n",
       "      <td>Overweight_Level_II</td>\n",
       "      <td>1</td>\n",
       "      <td>20-30</td>\n",
       "    </tr>\n",
       "    <tr>\n",
       "      <th>21</th>\n",
       "      <td>Female</td>\n",
       "      <td>52</td>\n",
       "      <td>1.69</td>\n",
       "      <td>87.0</td>\n",
       "      <td>yes</td>\n",
       "      <td>yes</td>\n",
       "      <td>3</td>\n",
       "      <td>1</td>\n",
       "      <td>Sometimes</td>\n",
       "      <td>yes</td>\n",
       "      <td>2</td>\n",
       "      <td>no</td>\n",
       "      <td>0</td>\n",
       "      <td>0</td>\n",
       "      <td>no</td>\n",
       "      <td>Automobile</td>\n",
       "      <td>Obesity_Type_I</td>\n",
       "      <td>4</td>\n",
       "      <td>50-60</td>\n",
       "    </tr>\n",
       "    <tr>\n",
       "      <th>22</th>\n",
       "      <td>Female</td>\n",
       "      <td>22</td>\n",
       "      <td>1.65</td>\n",
       "      <td>60.0</td>\n",
       "      <td>yes</td>\n",
       "      <td>yes</td>\n",
       "      <td>3</td>\n",
       "      <td>3</td>\n",
       "      <td>Sometimes</td>\n",
       "      <td>no</td>\n",
       "      <td>2</td>\n",
       "      <td>no</td>\n",
       "      <td>1</td>\n",
       "      <td>0</td>\n",
       "      <td>Sometimes</td>\n",
       "      <td>Automobile</td>\n",
       "      <td>Normal_Weight</td>\n",
       "      <td>1</td>\n",
       "      <td>20-30</td>\n",
       "    </tr>\n",
       "    <tr>\n",
       "      <th>23</th>\n",
       "      <td>Female</td>\n",
       "      <td>22</td>\n",
       "      <td>1.60</td>\n",
       "      <td>82.0</td>\n",
       "      <td>yes</td>\n",
       "      <td>yes</td>\n",
       "      <td>1</td>\n",
       "      <td>1</td>\n",
       "      <td>Sometimes</td>\n",
       "      <td>no</td>\n",
       "      <td>2</td>\n",
       "      <td>no</td>\n",
       "      <td>0</td>\n",
       "      <td>2</td>\n",
       "      <td>Sometimes</td>\n",
       "      <td>Public_Transportation</td>\n",
       "      <td>Obesity_Type_I</td>\n",
       "      <td>1</td>\n",
       "      <td>20-30</td>\n",
       "    </tr>\n",
       "    <tr>\n",
       "      <th>24</th>\n",
       "      <td>Male</td>\n",
       "      <td>21</td>\n",
       "      <td>1.85</td>\n",
       "      <td>68.0</td>\n",
       "      <td>yes</td>\n",
       "      <td>yes</td>\n",
       "      <td>2</td>\n",
       "      <td>3</td>\n",
       "      <td>Sometimes</td>\n",
       "      <td>no</td>\n",
       "      <td>2</td>\n",
       "      <td>no</td>\n",
       "      <td>0</td>\n",
       "      <td>1</td>\n",
       "      <td>Sometimes</td>\n",
       "      <td>Public_Transportation</td>\n",
       "      <td>Normal_Weight</td>\n",
       "      <td>1</td>\n",
       "      <td>20-30</td>\n",
       "    </tr>\n",
       "    <tr>\n",
       "      <th>25</th>\n",
       "      <td>Male</td>\n",
       "      <td>20</td>\n",
       "      <td>1.60</td>\n",
       "      <td>50.0</td>\n",
       "      <td>yes</td>\n",
       "      <td>no</td>\n",
       "      <td>2</td>\n",
       "      <td>4</td>\n",
       "      <td>Frequently</td>\n",
       "      <td>yes</td>\n",
       "      <td>2</td>\n",
       "      <td>no</td>\n",
       "      <td>3</td>\n",
       "      <td>2</td>\n",
       "      <td>no</td>\n",
       "      <td>Public_Transportation</td>\n",
       "      <td>Normal_Weight</td>\n",
       "      <td>0</td>\n",
       "      <td>10-20</td>\n",
       "    </tr>\n",
       "    <tr>\n",
       "      <th>26</th>\n",
       "      <td>Male</td>\n",
       "      <td>21</td>\n",
       "      <td>1.70</td>\n",
       "      <td>65.0</td>\n",
       "      <td>yes</td>\n",
       "      <td>yes</td>\n",
       "      <td>2</td>\n",
       "      <td>1</td>\n",
       "      <td>Frequently</td>\n",
       "      <td>no</td>\n",
       "      <td>2</td>\n",
       "      <td>no</td>\n",
       "      <td>1</td>\n",
       "      <td>2</td>\n",
       "      <td>Always</td>\n",
       "      <td>Walking</td>\n",
       "      <td>Normal_Weight</td>\n",
       "      <td>1</td>\n",
       "      <td>20-30</td>\n",
       "    </tr>\n",
       "    <tr>\n",
       "      <th>27</th>\n",
       "      <td>Female</td>\n",
       "      <td>23</td>\n",
       "      <td>1.60</td>\n",
       "      <td>52.0</td>\n",
       "      <td>no</td>\n",
       "      <td>yes</td>\n",
       "      <td>2</td>\n",
       "      <td>4</td>\n",
       "      <td>Frequently</td>\n",
       "      <td>no</td>\n",
       "      <td>2</td>\n",
       "      <td>no</td>\n",
       "      <td>2</td>\n",
       "      <td>1</td>\n",
       "      <td>Sometimes</td>\n",
       "      <td>Automobile</td>\n",
       "      <td>Normal_Weight</td>\n",
       "      <td>1</td>\n",
       "      <td>20-30</td>\n",
       "    </tr>\n",
       "    <tr>\n",
       "      <th>28</th>\n",
       "      <td>Male</td>\n",
       "      <td>19</td>\n",
       "      <td>1.75</td>\n",
       "      <td>76.0</td>\n",
       "      <td>yes</td>\n",
       "      <td>yes</td>\n",
       "      <td>3</td>\n",
       "      <td>3</td>\n",
       "      <td>Sometimes</td>\n",
       "      <td>no</td>\n",
       "      <td>2</td>\n",
       "      <td>yes</td>\n",
       "      <td>3</td>\n",
       "      <td>1</td>\n",
       "      <td>Sometimes</td>\n",
       "      <td>Public_Transportation</td>\n",
       "      <td>Normal_Weight</td>\n",
       "      <td>0</td>\n",
       "      <td>10-20</td>\n",
       "    </tr>\n",
       "    <tr>\n",
       "      <th>29</th>\n",
       "      <td>Male</td>\n",
       "      <td>23</td>\n",
       "      <td>1.68</td>\n",
       "      <td>70.0</td>\n",
       "      <td>no</td>\n",
       "      <td>yes</td>\n",
       "      <td>2</td>\n",
       "      <td>3</td>\n",
       "      <td>Sometimes</td>\n",
       "      <td>no</td>\n",
       "      <td>2</td>\n",
       "      <td>no</td>\n",
       "      <td>2</td>\n",
       "      <td>2</td>\n",
       "      <td>Frequently</td>\n",
       "      <td>Walking</td>\n",
       "      <td>Normal_Weight</td>\n",
       "      <td>1</td>\n",
       "      <td>20-30</td>\n",
       "    </tr>\n",
       "    <tr>\n",
       "      <th>30</th>\n",
       "      <td>Male</td>\n",
       "      <td>29</td>\n",
       "      <td>1.77</td>\n",
       "      <td>83.0</td>\n",
       "      <td>no</td>\n",
       "      <td>yes</td>\n",
       "      <td>1</td>\n",
       "      <td>4</td>\n",
       "      <td>Frequently</td>\n",
       "      <td>no</td>\n",
       "      <td>3</td>\n",
       "      <td>no</td>\n",
       "      <td>0</td>\n",
       "      <td>1</td>\n",
       "      <td>no</td>\n",
       "      <td>Motorbike</td>\n",
       "      <td>Overweight_Level_I</td>\n",
       "      <td>1</td>\n",
       "      <td>20-30</td>\n",
       "    </tr>\n",
       "    <tr>\n",
       "      <th>31</th>\n",
       "      <td>Female</td>\n",
       "      <td>31</td>\n",
       "      <td>1.58</td>\n",
       "      <td>68.0</td>\n",
       "      <td>yes</td>\n",
       "      <td>no</td>\n",
       "      <td>2</td>\n",
       "      <td>1</td>\n",
       "      <td>Sometimes</td>\n",
       "      <td>no</td>\n",
       "      <td>1</td>\n",
       "      <td>no</td>\n",
       "      <td>1</td>\n",
       "      <td>0</td>\n",
       "      <td>Sometimes</td>\n",
       "      <td>Public_Transportation</td>\n",
       "      <td>Overweight_Level_II</td>\n",
       "      <td>2</td>\n",
       "      <td>30-40</td>\n",
       "    </tr>\n",
       "    <tr>\n",
       "      <th>32</th>\n",
       "      <td>Female</td>\n",
       "      <td>24</td>\n",
       "      <td>1.77</td>\n",
       "      <td>76.0</td>\n",
       "      <td>no</td>\n",
       "      <td>no</td>\n",
       "      <td>2</td>\n",
       "      <td>3</td>\n",
       "      <td>Sometimes</td>\n",
       "      <td>no</td>\n",
       "      <td>3</td>\n",
       "      <td>no</td>\n",
       "      <td>1</td>\n",
       "      <td>1</td>\n",
       "      <td>Sometimes</td>\n",
       "      <td>Walking</td>\n",
       "      <td>Normal_Weight</td>\n",
       "      <td>1</td>\n",
       "      <td>20-30</td>\n",
       "    </tr>\n",
       "    <tr>\n",
       "      <th>33</th>\n",
       "      <td>Male</td>\n",
       "      <td>39</td>\n",
       "      <td>1.79</td>\n",
       "      <td>90.0</td>\n",
       "      <td>no</td>\n",
       "      <td>no</td>\n",
       "      <td>2</td>\n",
       "      <td>1</td>\n",
       "      <td>Sometimes</td>\n",
       "      <td>no</td>\n",
       "      <td>2</td>\n",
       "      <td>no</td>\n",
       "      <td>0</td>\n",
       "      <td>0</td>\n",
       "      <td>Sometimes</td>\n",
       "      <td>Public_Transportation</td>\n",
       "      <td>Overweight_Level_II</td>\n",
       "      <td>2</td>\n",
       "      <td>30-40</td>\n",
       "    </tr>\n",
       "    <tr>\n",
       "      <th>34</th>\n",
       "      <td>Male</td>\n",
       "      <td>22</td>\n",
       "      <td>1.65</td>\n",
       "      <td>62.0</td>\n",
       "      <td>no</td>\n",
       "      <td>yes</td>\n",
       "      <td>2</td>\n",
       "      <td>4</td>\n",
       "      <td>Frequently</td>\n",
       "      <td>no</td>\n",
       "      <td>2</td>\n",
       "      <td>no</td>\n",
       "      <td>2</td>\n",
       "      <td>0</td>\n",
       "      <td>Sometimes</td>\n",
       "      <td>Public_Transportation</td>\n",
       "      <td>Normal_Weight</td>\n",
       "      <td>1</td>\n",
       "      <td>20-30</td>\n",
       "    </tr>\n",
       "    <tr>\n",
       "      <th>35</th>\n",
       "      <td>Female</td>\n",
       "      <td>21</td>\n",
       "      <td>1.50</td>\n",
       "      <td>65.0</td>\n",
       "      <td>yes</td>\n",
       "      <td>no</td>\n",
       "      <td>2</td>\n",
       "      <td>3</td>\n",
       "      <td>Sometimes</td>\n",
       "      <td>no</td>\n",
       "      <td>2</td>\n",
       "      <td>no</td>\n",
       "      <td>2</td>\n",
       "      <td>2</td>\n",
       "      <td>Sometimes</td>\n",
       "      <td>Public_Transportation</td>\n",
       "      <td>Overweight_Level_II</td>\n",
       "      <td>1</td>\n",
       "      <td>20-30</td>\n",
       "    </tr>\n",
       "    <tr>\n",
       "      <th>36</th>\n",
       "      <td>Female</td>\n",
       "      <td>22</td>\n",
       "      <td>1.56</td>\n",
       "      <td>49.0</td>\n",
       "      <td>no</td>\n",
       "      <td>yes</td>\n",
       "      <td>2</td>\n",
       "      <td>3</td>\n",
       "      <td>Sometimes</td>\n",
       "      <td>no</td>\n",
       "      <td>1</td>\n",
       "      <td>yes</td>\n",
       "      <td>2</td>\n",
       "      <td>0</td>\n",
       "      <td>no</td>\n",
       "      <td>Walking</td>\n",
       "      <td>Normal_Weight</td>\n",
       "      <td>1</td>\n",
       "      <td>20-30</td>\n",
       "    </tr>\n",
       "    <tr>\n",
       "      <th>37</th>\n",
       "      <td>Female</td>\n",
       "      <td>21</td>\n",
       "      <td>1.60</td>\n",
       "      <td>48.0</td>\n",
       "      <td>no</td>\n",
       "      <td>yes</td>\n",
       "      <td>2</td>\n",
       "      <td>3</td>\n",
       "      <td>Sometimes</td>\n",
       "      <td>no</td>\n",
       "      <td>1</td>\n",
       "      <td>no</td>\n",
       "      <td>1</td>\n",
       "      <td>0</td>\n",
       "      <td>Sometimes</td>\n",
       "      <td>Public_Transportation</td>\n",
       "      <td>Normal_Weight</td>\n",
       "      <td>1</td>\n",
       "      <td>20-30</td>\n",
       "    </tr>\n",
       "    <tr>\n",
       "      <th>38</th>\n",
       "      <td>Male</td>\n",
       "      <td>23</td>\n",
       "      <td>1.65</td>\n",
       "      <td>67.0</td>\n",
       "      <td>yes</td>\n",
       "      <td>yes</td>\n",
       "      <td>2</td>\n",
       "      <td>3</td>\n",
       "      <td>Sometimes</td>\n",
       "      <td>no</td>\n",
       "      <td>2</td>\n",
       "      <td>no</td>\n",
       "      <td>1</td>\n",
       "      <td>1</td>\n",
       "      <td>Sometimes</td>\n",
       "      <td>Public_Transportation</td>\n",
       "      <td>Normal_Weight</td>\n",
       "      <td>1</td>\n",
       "      <td>20-30</td>\n",
       "    </tr>\n",
       "    <tr>\n",
       "      <th>39</th>\n",
       "      <td>Female</td>\n",
       "      <td>21</td>\n",
       "      <td>1.75</td>\n",
       "      <td>88.0</td>\n",
       "      <td>yes</td>\n",
       "      <td>yes</td>\n",
       "      <td>2</td>\n",
       "      <td>3</td>\n",
       "      <td>Sometimes</td>\n",
       "      <td>no</td>\n",
       "      <td>3</td>\n",
       "      <td>no</td>\n",
       "      <td>3</td>\n",
       "      <td>0</td>\n",
       "      <td>Sometimes</td>\n",
       "      <td>Public_Transportation</td>\n",
       "      <td>Overweight_Level_II</td>\n",
       "      <td>1</td>\n",
       "      <td>20-30</td>\n",
       "    </tr>\n",
       "    <tr>\n",
       "      <th>40</th>\n",
       "      <td>Female</td>\n",
       "      <td>21</td>\n",
       "      <td>1.67</td>\n",
       "      <td>75.0</td>\n",
       "      <td>yes</td>\n",
       "      <td>yes</td>\n",
       "      <td>2</td>\n",
       "      <td>3</td>\n",
       "      <td>Sometimes</td>\n",
       "      <td>no</td>\n",
       "      <td>2</td>\n",
       "      <td>no</td>\n",
       "      <td>1</td>\n",
       "      <td>0</td>\n",
       "      <td>Sometimes</td>\n",
       "      <td>Public_Transportation</td>\n",
       "      <td>Overweight_Level_I</td>\n",
       "      <td>1</td>\n",
       "      <td>20-30</td>\n",
       "    </tr>\n",
       "    <tr>\n",
       "      <th>41</th>\n",
       "      <td>Male</td>\n",
       "      <td>23</td>\n",
       "      <td>1.68</td>\n",
       "      <td>60.0</td>\n",
       "      <td>no</td>\n",
       "      <td>no</td>\n",
       "      <td>2</td>\n",
       "      <td>4</td>\n",
       "      <td>Frequently</td>\n",
       "      <td>no</td>\n",
       "      <td>2</td>\n",
       "      <td>no</td>\n",
       "      <td>0</td>\n",
       "      <td>0</td>\n",
       "      <td>no</td>\n",
       "      <td>Walking</td>\n",
       "      <td>Normal_Weight</td>\n",
       "      <td>1</td>\n",
       "      <td>20-30</td>\n",
       "    </tr>\n",
       "    <tr>\n",
       "      <th>42</th>\n",
       "      <td>Female</td>\n",
       "      <td>21</td>\n",
       "      <td>1.66</td>\n",
       "      <td>64.0</td>\n",
       "      <td>yes</td>\n",
       "      <td>yes</td>\n",
       "      <td>1</td>\n",
       "      <td>3</td>\n",
       "      <td>Sometimes</td>\n",
       "      <td>no</td>\n",
       "      <td>1</td>\n",
       "      <td>no</td>\n",
       "      <td>0</td>\n",
       "      <td>0</td>\n",
       "      <td>no</td>\n",
       "      <td>Public_Transportation</td>\n",
       "      <td>Normal_Weight</td>\n",
       "      <td>1</td>\n",
       "      <td>20-30</td>\n",
       "    </tr>\n",
       "    <tr>\n",
       "      <th>43</th>\n",
       "      <td>Male</td>\n",
       "      <td>21</td>\n",
       "      <td>1.66</td>\n",
       "      <td>62.0</td>\n",
       "      <td>yes</td>\n",
       "      <td>yes</td>\n",
       "      <td>2</td>\n",
       "      <td>3</td>\n",
       "      <td>Sometimes</td>\n",
       "      <td>yes</td>\n",
       "      <td>2</td>\n",
       "      <td>no</td>\n",
       "      <td>1</td>\n",
       "      <td>1</td>\n",
       "      <td>Frequently</td>\n",
       "      <td>Public_Transportation</td>\n",
       "      <td>Normal_Weight</td>\n",
       "      <td>1</td>\n",
       "      <td>20-30</td>\n",
       "    </tr>\n",
       "    <tr>\n",
       "      <th>44</th>\n",
       "      <td>Male</td>\n",
       "      <td>21</td>\n",
       "      <td>1.81</td>\n",
       "      <td>80.0</td>\n",
       "      <td>no</td>\n",
       "      <td>no</td>\n",
       "      <td>1</td>\n",
       "      <td>3</td>\n",
       "      <td>no</td>\n",
       "      <td>no</td>\n",
       "      <td>2</td>\n",
       "      <td>no</td>\n",
       "      <td>2</td>\n",
       "      <td>0</td>\n",
       "      <td>no</td>\n",
       "      <td>Public_Transportation</td>\n",
       "      <td>Normal_Weight</td>\n",
       "      <td>1</td>\n",
       "      <td>20-30</td>\n",
       "    </tr>\n",
       "    <tr>\n",
       "      <th>45</th>\n",
       "      <td>Female</td>\n",
       "      <td>21</td>\n",
       "      <td>1.53</td>\n",
       "      <td>65.0</td>\n",
       "      <td>yes</td>\n",
       "      <td>no</td>\n",
       "      <td>2</td>\n",
       "      <td>3</td>\n",
       "      <td>Sometimes</td>\n",
       "      <td>no</td>\n",
       "      <td>1</td>\n",
       "      <td>no</td>\n",
       "      <td>0</td>\n",
       "      <td>1</td>\n",
       "      <td>no</td>\n",
       "      <td>Public_Transportation</td>\n",
       "      <td>Overweight_Level_II</td>\n",
       "      <td>1</td>\n",
       "      <td>20-30</td>\n",
       "    </tr>\n",
       "    <tr>\n",
       "      <th>46</th>\n",
       "      <td>Male</td>\n",
       "      <td>21</td>\n",
       "      <td>1.82</td>\n",
       "      <td>72.0</td>\n",
       "      <td>yes</td>\n",
       "      <td>yes</td>\n",
       "      <td>1</td>\n",
       "      <td>3</td>\n",
       "      <td>Frequently</td>\n",
       "      <td>no</td>\n",
       "      <td>3</td>\n",
       "      <td>no</td>\n",
       "      <td>2</td>\n",
       "      <td>0</td>\n",
       "      <td>Sometimes</td>\n",
       "      <td>Public_Transportation</td>\n",
       "      <td>Normal_Weight</td>\n",
       "      <td>1</td>\n",
       "      <td>20-30</td>\n",
       "    </tr>\n",
       "    <tr>\n",
       "      <th>47</th>\n",
       "      <td>Male</td>\n",
       "      <td>21</td>\n",
       "      <td>1.75</td>\n",
       "      <td>72.0</td>\n",
       "      <td>yes</td>\n",
       "      <td>yes</td>\n",
       "      <td>1</td>\n",
       "      <td>3</td>\n",
       "      <td>Frequently</td>\n",
       "      <td>no</td>\n",
       "      <td>3</td>\n",
       "      <td>no</td>\n",
       "      <td>2</td>\n",
       "      <td>0</td>\n",
       "      <td>Sometimes</td>\n",
       "      <td>Public_Transportation</td>\n",
       "      <td>Normal_Weight</td>\n",
       "      <td>1</td>\n",
       "      <td>20-30</td>\n",
       "    </tr>\n",
       "    <tr>\n",
       "      <th>48</th>\n",
       "      <td>Female</td>\n",
       "      <td>20</td>\n",
       "      <td>1.66</td>\n",
       "      <td>60.0</td>\n",
       "      <td>yes</td>\n",
       "      <td>no</td>\n",
       "      <td>3</td>\n",
       "      <td>3</td>\n",
       "      <td>Sometimes</td>\n",
       "      <td>no</td>\n",
       "      <td>2</td>\n",
       "      <td>no</td>\n",
       "      <td>1</td>\n",
       "      <td>0</td>\n",
       "      <td>Sometimes</td>\n",
       "      <td>Walking</td>\n",
       "      <td>Normal_Weight</td>\n",
       "      <td>0</td>\n",
       "      <td>10-20</td>\n",
       "    </tr>\n",
       "    <tr>\n",
       "      <th>49</th>\n",
       "      <td>Female</td>\n",
       "      <td>21</td>\n",
       "      <td>1.55</td>\n",
       "      <td>50.0</td>\n",
       "      <td>no</td>\n",
       "      <td>yes</td>\n",
       "      <td>2</td>\n",
       "      <td>3</td>\n",
       "      <td>Sometimes</td>\n",
       "      <td>no</td>\n",
       "      <td>2</td>\n",
       "      <td>no</td>\n",
       "      <td>0</td>\n",
       "      <td>0</td>\n",
       "      <td>Sometimes</td>\n",
       "      <td>Public_Transportation</td>\n",
       "      <td>Normal_Weight</td>\n",
       "      <td>1</td>\n",
       "      <td>20-30</td>\n",
       "    </tr>\n",
       "  </tbody>\n",
       "</table>\n",
       "</div>"
      ],
      "text/plain": [
       "    Gender  Age  Height  Weight family_history_with_overweight FAVC  FCVC  \\\n",
       "0   Female   21    1.62    64.0                            yes   no     2   \n",
       "1   Female   21    1.52    56.0                            yes   no     3   \n",
       "2     Male   23    1.80    77.0                            yes   no     2   \n",
       "3     Male   27    1.80    87.0                             no   no     3   \n",
       "4     Male   22    1.78    89.8                             no   no     2   \n",
       "5     Male   29    1.62    53.0                             no  yes     2   \n",
       "6   Female   23    1.50    55.0                            yes  yes     3   \n",
       "7     Male   22    1.64    53.0                             no   no     2   \n",
       "8     Male   24    1.78    64.0                            yes  yes     3   \n",
       "9     Male   22    1.72    68.0                            yes  yes     2   \n",
       "10    Male   26    1.85   105.0                            yes  yes     3   \n",
       "11  Female   21    1.72    80.0                            yes  yes     2   \n",
       "12    Male   22    1.65    56.0                             no   no     3   \n",
       "13    Male   41    1.80    99.0                             no  yes     2   \n",
       "14    Male   23    1.77    60.0                            yes  yes     3   \n",
       "15  Female   22    1.70    66.0                            yes   no     3   \n",
       "16    Male   27    1.93   102.0                            yes  yes     2   \n",
       "17  Female   29    1.53    78.0                             no  yes     2   \n",
       "18  Female   30    1.71    82.0                            yes  yes     3   \n",
       "19  Female   23    1.65    70.0                            yes   no     2   \n",
       "20    Male   22    1.65    80.0                            yes   no     2   \n",
       "21  Female   52    1.69    87.0                            yes  yes     3   \n",
       "22  Female   22    1.65    60.0                            yes  yes     3   \n",
       "23  Female   22    1.60    82.0                            yes  yes     1   \n",
       "24    Male   21    1.85    68.0                            yes  yes     2   \n",
       "25    Male   20    1.60    50.0                            yes   no     2   \n",
       "26    Male   21    1.70    65.0                            yes  yes     2   \n",
       "27  Female   23    1.60    52.0                             no  yes     2   \n",
       "28    Male   19    1.75    76.0                            yes  yes     3   \n",
       "29    Male   23    1.68    70.0                             no  yes     2   \n",
       "30    Male   29    1.77    83.0                             no  yes     1   \n",
       "31  Female   31    1.58    68.0                            yes   no     2   \n",
       "32  Female   24    1.77    76.0                             no   no     2   \n",
       "33    Male   39    1.79    90.0                             no   no     2   \n",
       "34    Male   22    1.65    62.0                             no  yes     2   \n",
       "35  Female   21    1.50    65.0                            yes   no     2   \n",
       "36  Female   22    1.56    49.0                             no  yes     2   \n",
       "37  Female   21    1.60    48.0                             no  yes     2   \n",
       "38    Male   23    1.65    67.0                            yes  yes     2   \n",
       "39  Female   21    1.75    88.0                            yes  yes     2   \n",
       "40  Female   21    1.67    75.0                            yes  yes     2   \n",
       "41    Male   23    1.68    60.0                             no   no     2   \n",
       "42  Female   21    1.66    64.0                            yes  yes     1   \n",
       "43    Male   21    1.66    62.0                            yes  yes     2   \n",
       "44    Male   21    1.81    80.0                             no   no     1   \n",
       "45  Female   21    1.53    65.0                            yes   no     2   \n",
       "46    Male   21    1.82    72.0                            yes  yes     1   \n",
       "47    Male   21    1.75    72.0                            yes  yes     1   \n",
       "48  Female   20    1.66    60.0                            yes   no     3   \n",
       "49  Female   21    1.55    50.0                             no  yes     2   \n",
       "\n",
       "    NCP        CAEC SMOKE  CH2O  SCC  FAF  TUE        CALC  \\\n",
       "0     3   Sometimes    no     2   no    0    1          no   \n",
       "1     3   Sometimes   yes     3  yes    3    0   Sometimes   \n",
       "2     3   Sometimes    no     2   no    2    1  Frequently   \n",
       "3     3   Sometimes    no     2   no    2    0  Frequently   \n",
       "4     1   Sometimes    no     2   no    0    0   Sometimes   \n",
       "5     3   Sometimes    no     2   no    0    0   Sometimes   \n",
       "6     3   Sometimes    no     2   no    1    0   Sometimes   \n",
       "7     3   Sometimes    no     2   no    3    0   Sometimes   \n",
       "8     3   Sometimes    no     2   no    1    1  Frequently   \n",
       "9     3   Sometimes    no     2   no    1    1          no   \n",
       "10    3  Frequently    no     3   no    2    2   Sometimes   \n",
       "11    3  Frequently    no     2  yes    2    1   Sometimes   \n",
       "12    3   Sometimes    no     3   no    2    0   Sometimes   \n",
       "13    3   Sometimes    no     2   no    2    1  Frequently   \n",
       "14    1   Sometimes    no     1   no    1    1   Sometimes   \n",
       "15    3      Always    no     2  yes    2    1   Sometimes   \n",
       "16    1   Sometimes    no     1   no    1    0   Sometimes   \n",
       "17    1   Sometimes    no     2   no    0    0          no   \n",
       "18    4  Frequently   yes     1   no    0    0          no   \n",
       "19    1   Sometimes    no     2   no    0    0   Sometimes   \n",
       "20    3   Sometimes    no     2   no    3    2          no   \n",
       "21    1   Sometimes   yes     2   no    0    0          no   \n",
       "22    3   Sometimes    no     2   no    1    0   Sometimes   \n",
       "23    1   Sometimes    no     2   no    0    2   Sometimes   \n",
       "24    3   Sometimes    no     2   no    0    1   Sometimes   \n",
       "25    4  Frequently   yes     2   no    3    2          no   \n",
       "26    1  Frequently    no     2   no    1    2      Always   \n",
       "27    4  Frequently    no     2   no    2    1   Sometimes   \n",
       "28    3   Sometimes    no     2  yes    3    1   Sometimes   \n",
       "29    3   Sometimes    no     2   no    2    2  Frequently   \n",
       "30    4  Frequently    no     3   no    0    1          no   \n",
       "31    1   Sometimes    no     1   no    1    0   Sometimes   \n",
       "32    3   Sometimes    no     3   no    1    1   Sometimes   \n",
       "33    1   Sometimes    no     2   no    0    0   Sometimes   \n",
       "34    4  Frequently    no     2   no    2    0   Sometimes   \n",
       "35    3   Sometimes    no     2   no    2    2   Sometimes   \n",
       "36    3   Sometimes    no     1  yes    2    0          no   \n",
       "37    3   Sometimes    no     1   no    1    0   Sometimes   \n",
       "38    3   Sometimes    no     2   no    1    1   Sometimes   \n",
       "39    3   Sometimes    no     3   no    3    0   Sometimes   \n",
       "40    3   Sometimes    no     2   no    1    0   Sometimes   \n",
       "41    4  Frequently    no     2   no    0    0          no   \n",
       "42    3   Sometimes    no     1   no    0    0          no   \n",
       "43    3   Sometimes   yes     2   no    1    1  Frequently   \n",
       "44    3          no    no     2   no    2    0          no   \n",
       "45    3   Sometimes    no     1   no    0    1          no   \n",
       "46    3  Frequently    no     3   no    2    0   Sometimes   \n",
       "47    3  Frequently    no     3   no    2    0   Sometimes   \n",
       "48    3   Sometimes    no     2   no    1    0   Sometimes   \n",
       "49    3   Sometimes    no     2   no    0    0   Sometimes   \n",
       "\n",
       "                   MTRANS           NObeyesdad age_group age_group_string  \n",
       "0   Public_Transportation        Normal_Weight         1            20-30  \n",
       "1   Public_Transportation        Normal_Weight         1            20-30  \n",
       "2   Public_Transportation        Normal_Weight         1            20-30  \n",
       "3                 Walking   Overweight_Level_I         1            20-30  \n",
       "4   Public_Transportation  Overweight_Level_II         1            20-30  \n",
       "5              Automobile        Normal_Weight         1            20-30  \n",
       "6               Motorbike        Normal_Weight         1            20-30  \n",
       "7   Public_Transportation        Normal_Weight         1            20-30  \n",
       "8   Public_Transportation        Normal_Weight         1            20-30  \n",
       "9   Public_Transportation        Normal_Weight         1            20-30  \n",
       "10  Public_Transportation       Obesity_Type_I         1            20-30  \n",
       "11  Public_Transportation  Overweight_Level_II         1            20-30  \n",
       "12  Public_Transportation        Normal_Weight         1            20-30  \n",
       "13             Automobile       Obesity_Type_I         3            40-50  \n",
       "14  Public_Transportation        Normal_Weight         1            20-30  \n",
       "15  Public_Transportation        Normal_Weight         1            20-30  \n",
       "16  Public_Transportation  Overweight_Level_II         1            20-30  \n",
       "17             Automobile       Obesity_Type_I         1            20-30  \n",
       "18             Automobile  Overweight_Level_II         1            20-30  \n",
       "19  Public_Transportation   Overweight_Level_I         1            20-30  \n",
       "20                Walking  Overweight_Level_II         1            20-30  \n",
       "21             Automobile       Obesity_Type_I         4            50-60  \n",
       "22             Automobile        Normal_Weight         1            20-30  \n",
       "23  Public_Transportation       Obesity_Type_I         1            20-30  \n",
       "24  Public_Transportation        Normal_Weight         1            20-30  \n",
       "25  Public_Transportation        Normal_Weight         0            10-20  \n",
       "26                Walking        Normal_Weight         1            20-30  \n",
       "27             Automobile        Normal_Weight         1            20-30  \n",
       "28  Public_Transportation        Normal_Weight         0            10-20  \n",
       "29                Walking        Normal_Weight         1            20-30  \n",
       "30              Motorbike   Overweight_Level_I         1            20-30  \n",
       "31  Public_Transportation  Overweight_Level_II         2            30-40  \n",
       "32                Walking        Normal_Weight         1            20-30  \n",
       "33  Public_Transportation  Overweight_Level_II         2            30-40  \n",
       "34  Public_Transportation        Normal_Weight         1            20-30  \n",
       "35  Public_Transportation  Overweight_Level_II         1            20-30  \n",
       "36                Walking        Normal_Weight         1            20-30  \n",
       "37  Public_Transportation        Normal_Weight         1            20-30  \n",
       "38  Public_Transportation        Normal_Weight         1            20-30  \n",
       "39  Public_Transportation  Overweight_Level_II         1            20-30  \n",
       "40  Public_Transportation   Overweight_Level_I         1            20-30  \n",
       "41                Walking        Normal_Weight         1            20-30  \n",
       "42  Public_Transportation        Normal_Weight         1            20-30  \n",
       "43  Public_Transportation        Normal_Weight         1            20-30  \n",
       "44  Public_Transportation        Normal_Weight         1            20-30  \n",
       "45  Public_Transportation  Overweight_Level_II         1            20-30  \n",
       "46  Public_Transportation        Normal_Weight         1            20-30  \n",
       "47  Public_Transportation        Normal_Weight         1            20-30  \n",
       "48                Walking        Normal_Weight         0            10-20  \n",
       "49  Public_Transportation        Normal_Weight         1            20-30  "
      ]
     },
     "execution_count": 39,
     "metadata": {},
     "output_type": "execute_result"
    }
   ],
   "source": [
    "df_obesity.head(50)"
   ]
  },
  {
   "cell_type": "code",
   "execution_count": 6,
   "metadata": {},
   "outputs": [
    {
     "data": {
      "text/html": [
       "<div>\n",
       "<style scoped>\n",
       "    .dataframe tbody tr th:only-of-type {\n",
       "        vertical-align: middle;\n",
       "    }\n",
       "\n",
       "    .dataframe tbody tr th {\n",
       "        vertical-align: top;\n",
       "    }\n",
       "\n",
       "    .dataframe thead th {\n",
       "        text-align: right;\n",
       "    }\n",
       "</style>\n",
       "<table border=\"1\" class=\"dataframe\">\n",
       "  <thead>\n",
       "    <tr style=\"text-align: right;\">\n",
       "      <th></th>\n",
       "      <th>Age</th>\n",
       "      <th>Height</th>\n",
       "      <th>Weight</th>\n",
       "      <th>FCVC</th>\n",
       "      <th>NCP</th>\n",
       "      <th>CH2O</th>\n",
       "      <th>FAF</th>\n",
       "      <th>TUE</th>\n",
       "    </tr>\n",
       "  </thead>\n",
       "  <tbody>\n",
       "    <tr>\n",
       "      <th>count</th>\n",
       "      <td>2111.000000</td>\n",
       "      <td>2111.000000</td>\n",
       "      <td>2111.000000</td>\n",
       "      <td>2111.000000</td>\n",
       "      <td>2111.000000</td>\n",
       "      <td>2111.000000</td>\n",
       "      <td>2111.000000</td>\n",
       "      <td>2111.000000</td>\n",
       "    </tr>\n",
       "    <tr>\n",
       "      <th>mean</th>\n",
       "      <td>24.312600</td>\n",
       "      <td>1.701677</td>\n",
       "      <td>86.586058</td>\n",
       "      <td>2.419043</td>\n",
       "      <td>2.685628</td>\n",
       "      <td>2.008011</td>\n",
       "      <td>1.010298</td>\n",
       "      <td>0.657866</td>\n",
       "    </tr>\n",
       "    <tr>\n",
       "      <th>std</th>\n",
       "      <td>6.345968</td>\n",
       "      <td>0.093305</td>\n",
       "      <td>26.191172</td>\n",
       "      <td>0.533927</td>\n",
       "      <td>0.778039</td>\n",
       "      <td>0.612953</td>\n",
       "      <td>0.850592</td>\n",
       "      <td>0.608927</td>\n",
       "    </tr>\n",
       "    <tr>\n",
       "      <th>min</th>\n",
       "      <td>14.000000</td>\n",
       "      <td>1.450000</td>\n",
       "      <td>39.000000</td>\n",
       "      <td>1.000000</td>\n",
       "      <td>1.000000</td>\n",
       "      <td>1.000000</td>\n",
       "      <td>0.000000</td>\n",
       "      <td>0.000000</td>\n",
       "    </tr>\n",
       "    <tr>\n",
       "      <th>25%</th>\n",
       "      <td>19.947192</td>\n",
       "      <td>1.630000</td>\n",
       "      <td>65.473343</td>\n",
       "      <td>2.000000</td>\n",
       "      <td>2.658738</td>\n",
       "      <td>1.584812</td>\n",
       "      <td>0.124505</td>\n",
       "      <td>0.000000</td>\n",
       "    </tr>\n",
       "    <tr>\n",
       "      <th>50%</th>\n",
       "      <td>22.777890</td>\n",
       "      <td>1.700499</td>\n",
       "      <td>83.000000</td>\n",
       "      <td>2.385502</td>\n",
       "      <td>3.000000</td>\n",
       "      <td>2.000000</td>\n",
       "      <td>1.000000</td>\n",
       "      <td>0.625350</td>\n",
       "    </tr>\n",
       "    <tr>\n",
       "      <th>75%</th>\n",
       "      <td>26.000000</td>\n",
       "      <td>1.768464</td>\n",
       "      <td>107.430682</td>\n",
       "      <td>3.000000</td>\n",
       "      <td>3.000000</td>\n",
       "      <td>2.477420</td>\n",
       "      <td>1.666678</td>\n",
       "      <td>1.000000</td>\n",
       "    </tr>\n",
       "    <tr>\n",
       "      <th>max</th>\n",
       "      <td>61.000000</td>\n",
       "      <td>1.980000</td>\n",
       "      <td>173.000000</td>\n",
       "      <td>3.000000</td>\n",
       "      <td>4.000000</td>\n",
       "      <td>3.000000</td>\n",
       "      <td>3.000000</td>\n",
       "      <td>2.000000</td>\n",
       "    </tr>\n",
       "  </tbody>\n",
       "</table>\n",
       "</div>"
      ],
      "text/plain": [
       "               Age       Height       Weight         FCVC          NCP  \\\n",
       "count  2111.000000  2111.000000  2111.000000  2111.000000  2111.000000   \n",
       "mean     24.312600     1.701677    86.586058     2.419043     2.685628   \n",
       "std       6.345968     0.093305    26.191172     0.533927     0.778039   \n",
       "min      14.000000     1.450000    39.000000     1.000000     1.000000   \n",
       "25%      19.947192     1.630000    65.473343     2.000000     2.658738   \n",
       "50%      22.777890     1.700499    83.000000     2.385502     3.000000   \n",
       "75%      26.000000     1.768464   107.430682     3.000000     3.000000   \n",
       "max      61.000000     1.980000   173.000000     3.000000     4.000000   \n",
       "\n",
       "              CH2O          FAF          TUE  \n",
       "count  2111.000000  2111.000000  2111.000000  \n",
       "mean      2.008011     1.010298     0.657866  \n",
       "std       0.612953     0.850592     0.608927  \n",
       "min       1.000000     0.000000     0.000000  \n",
       "25%       1.584812     0.124505     0.000000  \n",
       "50%       2.000000     1.000000     0.625350  \n",
       "75%       2.477420     1.666678     1.000000  \n",
       "max       3.000000     3.000000     2.000000  "
      ]
     },
     "execution_count": 6,
     "metadata": {},
     "output_type": "execute_result"
    }
   ],
   "source": [
    "df_obesity.describe()"
   ]
  },
  {
   "cell_type": "code",
   "execution_count": 37,
   "metadata": {},
   "outputs": [
    {
     "name": "stdout",
     "output_type": "stream",
     "text": [
      "<class 'pandas.core.frame.DataFrame'>\n",
      "RangeIndex: 2111 entries, 0 to 2110\n",
      "Data columns (total 19 columns):\n",
      " #   Column                          Non-Null Count  Dtype   \n",
      "---  ------                          --------------  -----   \n",
      " 0   Gender                          2111 non-null   object  \n",
      " 1   Age                             2111 non-null   int64   \n",
      " 2   Height                          2111 non-null   float64 \n",
      " 3   Weight                          2111 non-null   float64 \n",
      " 4   family_history_with_overweight  2111 non-null   object  \n",
      " 5   FAVC                            2111 non-null   object  \n",
      " 6   FCVC                            2111 non-null   int64   \n",
      " 7   NCP                             2111 non-null   int64   \n",
      " 8   CAEC                            2111 non-null   object  \n",
      " 9   SMOKE                           2111 non-null   object  \n",
      " 10  CH2O                            2111 non-null   int64   \n",
      " 11  SCC                             2111 non-null   object  \n",
      " 12  FAF                             2111 non-null   int64   \n",
      " 13  TUE                             2111 non-null   int64   \n",
      " 14  CALC                            2111 non-null   object  \n",
      " 15  MTRANS                          2111 non-null   object  \n",
      " 16  NObeyesdad                      2111 non-null   object  \n",
      " 17  age_group                       2111 non-null   category\n",
      " 18  age_group_string                2111 non-null   category\n",
      "dtypes: category(2), float64(2), int64(6), object(9)\n",
      "memory usage: 285.0+ KB\n"
     ]
    }
   ],
   "source": [
    "df_obesity.info()"
   ]
  },
  {
   "cell_type": "code",
   "execution_count": 14,
   "metadata": {},
   "outputs": [],
   "source": [
    "# Change coluns to type int\n",
    "\n",
    "coluns = [\"Age\", \"FCVC\", \"NCP\", \"CH2O\", \"FAF\", \"TUE\"]\n",
    "\n",
    "df_obesity[coluns] = df_obesity[coluns].astype(int)"
   ]
  },
  {
   "cell_type": "code",
   "execution_count": 18,
   "metadata": {},
   "outputs": [
    {
     "data": {
      "text/plain": [
       "NObeyesdad\n",
       "Obesity_Type_I         351\n",
       "Obesity_Type_III       324\n",
       "Obesity_Type_II        297\n",
       "Overweight_Level_I     290\n",
       "Overweight_Level_II    290\n",
       "Normal_Weight          287\n",
       "Insufficient_Weight    272\n",
       "Name: count, dtype: int64"
      ]
     },
     "execution_count": 18,
     "metadata": {},
     "output_type": "execute_result"
    }
   ],
   "source": [
    "df_obesity.NObeyesdad.value_counts()"
   ]
  },
  {
   "cell_type": "markdown",
   "metadata": {},
   "source": [
    "### EDA"
   ]
  },
  {
   "cell_type": "code",
   "execution_count": 20,
   "metadata": {},
   "outputs": [
    {
     "data": {
      "application/vnd.plotly.v1+json": {
       "config": {
        "plotlyServerURL": "https://plot.ly"
       },
       "data": [
        {
         "alignmentgroup": "True",
         "hovertemplate": "variable=count<br>NObeyesdad=%{x}<br>value=%{y}<extra></extra>",
         "legendgroup": "count",
         "marker": {
          "color": "#636efa",
          "pattern": {
           "shape": ""
          }
         },
         "name": "count",
         "offsetgroup": "count",
         "orientation": "v",
         "showlegend": true,
         "textposition": "auto",
         "type": "bar",
         "x": [
          "Obesity_Type_I",
          "Obesity_Type_III",
          "Obesity_Type_II",
          "Overweight_Level_I",
          "Overweight_Level_II",
          "Normal_Weight",
          "Insufficient_Weight"
         ],
         "xaxis": "x",
         "y": [
          351,
          324,
          297,
          290,
          290,
          287,
          272
         ],
         "yaxis": "y"
        }
       ],
       "layout": {
        "barmode": "relative",
        "legend": {
         "title": {
          "text": "variable"
         },
         "tracegroupgap": 0
        },
        "margin": {
         "t": 60
        },
        "template": {
         "data": {
          "bar": [
           {
            "error_x": {
             "color": "#2a3f5f"
            },
            "error_y": {
             "color": "#2a3f5f"
            },
            "marker": {
             "line": {
              "color": "#E5ECF6",
              "width": 0.5
             },
             "pattern": {
              "fillmode": "overlay",
              "size": 10,
              "solidity": 0.2
             }
            },
            "type": "bar"
           }
          ],
          "barpolar": [
           {
            "marker": {
             "line": {
              "color": "#E5ECF6",
              "width": 0.5
             },
             "pattern": {
              "fillmode": "overlay",
              "size": 10,
              "solidity": 0.2
             }
            },
            "type": "barpolar"
           }
          ],
          "carpet": [
           {
            "aaxis": {
             "endlinecolor": "#2a3f5f",
             "gridcolor": "white",
             "linecolor": "white",
             "minorgridcolor": "white",
             "startlinecolor": "#2a3f5f"
            },
            "baxis": {
             "endlinecolor": "#2a3f5f",
             "gridcolor": "white",
             "linecolor": "white",
             "minorgridcolor": "white",
             "startlinecolor": "#2a3f5f"
            },
            "type": "carpet"
           }
          ],
          "choropleth": [
           {
            "colorbar": {
             "outlinewidth": 0,
             "ticks": ""
            },
            "type": "choropleth"
           }
          ],
          "contour": [
           {
            "colorbar": {
             "outlinewidth": 0,
             "ticks": ""
            },
            "colorscale": [
             [
              0,
              "#0d0887"
             ],
             [
              0.1111111111111111,
              "#46039f"
             ],
             [
              0.2222222222222222,
              "#7201a8"
             ],
             [
              0.3333333333333333,
              "#9c179e"
             ],
             [
              0.4444444444444444,
              "#bd3786"
             ],
             [
              0.5555555555555556,
              "#d8576b"
             ],
             [
              0.6666666666666666,
              "#ed7953"
             ],
             [
              0.7777777777777778,
              "#fb9f3a"
             ],
             [
              0.8888888888888888,
              "#fdca26"
             ],
             [
              1,
              "#f0f921"
             ]
            ],
            "type": "contour"
           }
          ],
          "contourcarpet": [
           {
            "colorbar": {
             "outlinewidth": 0,
             "ticks": ""
            },
            "type": "contourcarpet"
           }
          ],
          "heatmap": [
           {
            "colorbar": {
             "outlinewidth": 0,
             "ticks": ""
            },
            "colorscale": [
             [
              0,
              "#0d0887"
             ],
             [
              0.1111111111111111,
              "#46039f"
             ],
             [
              0.2222222222222222,
              "#7201a8"
             ],
             [
              0.3333333333333333,
              "#9c179e"
             ],
             [
              0.4444444444444444,
              "#bd3786"
             ],
             [
              0.5555555555555556,
              "#d8576b"
             ],
             [
              0.6666666666666666,
              "#ed7953"
             ],
             [
              0.7777777777777778,
              "#fb9f3a"
             ],
             [
              0.8888888888888888,
              "#fdca26"
             ],
             [
              1,
              "#f0f921"
             ]
            ],
            "type": "heatmap"
           }
          ],
          "heatmapgl": [
           {
            "colorbar": {
             "outlinewidth": 0,
             "ticks": ""
            },
            "colorscale": [
             [
              0,
              "#0d0887"
             ],
             [
              0.1111111111111111,
              "#46039f"
             ],
             [
              0.2222222222222222,
              "#7201a8"
             ],
             [
              0.3333333333333333,
              "#9c179e"
             ],
             [
              0.4444444444444444,
              "#bd3786"
             ],
             [
              0.5555555555555556,
              "#d8576b"
             ],
             [
              0.6666666666666666,
              "#ed7953"
             ],
             [
              0.7777777777777778,
              "#fb9f3a"
             ],
             [
              0.8888888888888888,
              "#fdca26"
             ],
             [
              1,
              "#f0f921"
             ]
            ],
            "type": "heatmapgl"
           }
          ],
          "histogram": [
           {
            "marker": {
             "pattern": {
              "fillmode": "overlay",
              "size": 10,
              "solidity": 0.2
             }
            },
            "type": "histogram"
           }
          ],
          "histogram2d": [
           {
            "colorbar": {
             "outlinewidth": 0,
             "ticks": ""
            },
            "colorscale": [
             [
              0,
              "#0d0887"
             ],
             [
              0.1111111111111111,
              "#46039f"
             ],
             [
              0.2222222222222222,
              "#7201a8"
             ],
             [
              0.3333333333333333,
              "#9c179e"
             ],
             [
              0.4444444444444444,
              "#bd3786"
             ],
             [
              0.5555555555555556,
              "#d8576b"
             ],
             [
              0.6666666666666666,
              "#ed7953"
             ],
             [
              0.7777777777777778,
              "#fb9f3a"
             ],
             [
              0.8888888888888888,
              "#fdca26"
             ],
             [
              1,
              "#f0f921"
             ]
            ],
            "type": "histogram2d"
           }
          ],
          "histogram2dcontour": [
           {
            "colorbar": {
             "outlinewidth": 0,
             "ticks": ""
            },
            "colorscale": [
             [
              0,
              "#0d0887"
             ],
             [
              0.1111111111111111,
              "#46039f"
             ],
             [
              0.2222222222222222,
              "#7201a8"
             ],
             [
              0.3333333333333333,
              "#9c179e"
             ],
             [
              0.4444444444444444,
              "#bd3786"
             ],
             [
              0.5555555555555556,
              "#d8576b"
             ],
             [
              0.6666666666666666,
              "#ed7953"
             ],
             [
              0.7777777777777778,
              "#fb9f3a"
             ],
             [
              0.8888888888888888,
              "#fdca26"
             ],
             [
              1,
              "#f0f921"
             ]
            ],
            "type": "histogram2dcontour"
           }
          ],
          "mesh3d": [
           {
            "colorbar": {
             "outlinewidth": 0,
             "ticks": ""
            },
            "type": "mesh3d"
           }
          ],
          "parcoords": [
           {
            "line": {
             "colorbar": {
              "outlinewidth": 0,
              "ticks": ""
             }
            },
            "type": "parcoords"
           }
          ],
          "pie": [
           {
            "automargin": true,
            "type": "pie"
           }
          ],
          "scatter": [
           {
            "fillpattern": {
             "fillmode": "overlay",
             "size": 10,
             "solidity": 0.2
            },
            "type": "scatter"
           }
          ],
          "scatter3d": [
           {
            "line": {
             "colorbar": {
              "outlinewidth": 0,
              "ticks": ""
             }
            },
            "marker": {
             "colorbar": {
              "outlinewidth": 0,
              "ticks": ""
             }
            },
            "type": "scatter3d"
           }
          ],
          "scattercarpet": [
           {
            "marker": {
             "colorbar": {
              "outlinewidth": 0,
              "ticks": ""
             }
            },
            "type": "scattercarpet"
           }
          ],
          "scattergeo": [
           {
            "marker": {
             "colorbar": {
              "outlinewidth": 0,
              "ticks": ""
             }
            },
            "type": "scattergeo"
           }
          ],
          "scattergl": [
           {
            "marker": {
             "colorbar": {
              "outlinewidth": 0,
              "ticks": ""
             }
            },
            "type": "scattergl"
           }
          ],
          "scattermapbox": [
           {
            "marker": {
             "colorbar": {
              "outlinewidth": 0,
              "ticks": ""
             }
            },
            "type": "scattermapbox"
           }
          ],
          "scatterpolar": [
           {
            "marker": {
             "colorbar": {
              "outlinewidth": 0,
              "ticks": ""
             }
            },
            "type": "scatterpolar"
           }
          ],
          "scatterpolargl": [
           {
            "marker": {
             "colorbar": {
              "outlinewidth": 0,
              "ticks": ""
             }
            },
            "type": "scatterpolargl"
           }
          ],
          "scatterternary": [
           {
            "marker": {
             "colorbar": {
              "outlinewidth": 0,
              "ticks": ""
             }
            },
            "type": "scatterternary"
           }
          ],
          "surface": [
           {
            "colorbar": {
             "outlinewidth": 0,
             "ticks": ""
            },
            "colorscale": [
             [
              0,
              "#0d0887"
             ],
             [
              0.1111111111111111,
              "#46039f"
             ],
             [
              0.2222222222222222,
              "#7201a8"
             ],
             [
              0.3333333333333333,
              "#9c179e"
             ],
             [
              0.4444444444444444,
              "#bd3786"
             ],
             [
              0.5555555555555556,
              "#d8576b"
             ],
             [
              0.6666666666666666,
              "#ed7953"
             ],
             [
              0.7777777777777778,
              "#fb9f3a"
             ],
             [
              0.8888888888888888,
              "#fdca26"
             ],
             [
              1,
              "#f0f921"
             ]
            ],
            "type": "surface"
           }
          ],
          "table": [
           {
            "cells": {
             "fill": {
              "color": "#EBF0F8"
             },
             "line": {
              "color": "white"
             }
            },
            "header": {
             "fill": {
              "color": "#C8D4E3"
             },
             "line": {
              "color": "white"
             }
            },
            "type": "table"
           }
          ]
         },
         "layout": {
          "annotationdefaults": {
           "arrowcolor": "#2a3f5f",
           "arrowhead": 0,
           "arrowwidth": 1
          },
          "autotypenumbers": "strict",
          "coloraxis": {
           "colorbar": {
            "outlinewidth": 0,
            "ticks": ""
           }
          },
          "colorscale": {
           "diverging": [
            [
             0,
             "#8e0152"
            ],
            [
             0.1,
             "#c51b7d"
            ],
            [
             0.2,
             "#de77ae"
            ],
            [
             0.3,
             "#f1b6da"
            ],
            [
             0.4,
             "#fde0ef"
            ],
            [
             0.5,
             "#f7f7f7"
            ],
            [
             0.6,
             "#e6f5d0"
            ],
            [
             0.7,
             "#b8e186"
            ],
            [
             0.8,
             "#7fbc41"
            ],
            [
             0.9,
             "#4d9221"
            ],
            [
             1,
             "#276419"
            ]
           ],
           "sequential": [
            [
             0,
             "#0d0887"
            ],
            [
             0.1111111111111111,
             "#46039f"
            ],
            [
             0.2222222222222222,
             "#7201a8"
            ],
            [
             0.3333333333333333,
             "#9c179e"
            ],
            [
             0.4444444444444444,
             "#bd3786"
            ],
            [
             0.5555555555555556,
             "#d8576b"
            ],
            [
             0.6666666666666666,
             "#ed7953"
            ],
            [
             0.7777777777777778,
             "#fb9f3a"
            ],
            [
             0.8888888888888888,
             "#fdca26"
            ],
            [
             1,
             "#f0f921"
            ]
           ],
           "sequentialminus": [
            [
             0,
             "#0d0887"
            ],
            [
             0.1111111111111111,
             "#46039f"
            ],
            [
             0.2222222222222222,
             "#7201a8"
            ],
            [
             0.3333333333333333,
             "#9c179e"
            ],
            [
             0.4444444444444444,
             "#bd3786"
            ],
            [
             0.5555555555555556,
             "#d8576b"
            ],
            [
             0.6666666666666666,
             "#ed7953"
            ],
            [
             0.7777777777777778,
             "#fb9f3a"
            ],
            [
             0.8888888888888888,
             "#fdca26"
            ],
            [
             1,
             "#f0f921"
            ]
           ]
          },
          "colorway": [
           "#636efa",
           "#EF553B",
           "#00cc96",
           "#ab63fa",
           "#FFA15A",
           "#19d3f3",
           "#FF6692",
           "#B6E880",
           "#FF97FF",
           "#FECB52"
          ],
          "font": {
           "color": "#2a3f5f"
          },
          "geo": {
           "bgcolor": "white",
           "lakecolor": "white",
           "landcolor": "#E5ECF6",
           "showlakes": true,
           "showland": true,
           "subunitcolor": "white"
          },
          "hoverlabel": {
           "align": "left"
          },
          "hovermode": "closest",
          "mapbox": {
           "style": "light"
          },
          "paper_bgcolor": "white",
          "plot_bgcolor": "#E5ECF6",
          "polar": {
           "angularaxis": {
            "gridcolor": "white",
            "linecolor": "white",
            "ticks": ""
           },
           "bgcolor": "#E5ECF6",
           "radialaxis": {
            "gridcolor": "white",
            "linecolor": "white",
            "ticks": ""
           }
          },
          "scene": {
           "xaxis": {
            "backgroundcolor": "#E5ECF6",
            "gridcolor": "white",
            "gridwidth": 2,
            "linecolor": "white",
            "showbackground": true,
            "ticks": "",
            "zerolinecolor": "white"
           },
           "yaxis": {
            "backgroundcolor": "#E5ECF6",
            "gridcolor": "white",
            "gridwidth": 2,
            "linecolor": "white",
            "showbackground": true,
            "ticks": "",
            "zerolinecolor": "white"
           },
           "zaxis": {
            "backgroundcolor": "#E5ECF6",
            "gridcolor": "white",
            "gridwidth": 2,
            "linecolor": "white",
            "showbackground": true,
            "ticks": "",
            "zerolinecolor": "white"
           }
          },
          "shapedefaults": {
           "line": {
            "color": "#2a3f5f"
           }
          },
          "ternary": {
           "aaxis": {
            "gridcolor": "white",
            "linecolor": "white",
            "ticks": ""
           },
           "baxis": {
            "gridcolor": "white",
            "linecolor": "white",
            "ticks": ""
           },
           "bgcolor": "#E5ECF6",
           "caxis": {
            "gridcolor": "white",
            "linecolor": "white",
            "ticks": ""
           }
          },
          "title": {
           "x": 0.05
          },
          "xaxis": {
           "automargin": true,
           "gridcolor": "white",
           "linecolor": "white",
           "ticks": "",
           "title": {
            "standoff": 15
           },
           "zerolinecolor": "white",
           "zerolinewidth": 2
          },
          "yaxis": {
           "automargin": true,
           "gridcolor": "white",
           "linecolor": "white",
           "ticks": "",
           "title": {
            "standoff": 15
           },
           "zerolinecolor": "white",
           "zerolinewidth": 2
          }
         }
        },
        "xaxis": {
         "anchor": "y",
         "domain": [
          0,
          1
         ],
         "title": {
          "text": "NObeyesdad"
         }
        },
        "yaxis": {
         "anchor": "x",
         "domain": [
          0,
          1
         ],
         "title": {
          "text": "value"
         }
        }
       }
      }
     },
     "metadata": {},
     "output_type": "display_data"
    }
   ],
   "source": [
    "# Distribution of the target variable\n",
    "\n",
    "px.bar(df_obesity.value_counts(\"NObeyesdad\"))"
   ]
  },
  {
   "cell_type": "code",
   "execution_count": 21,
   "metadata": {},
   "outputs": [
    {
     "data": {
      "application/vnd.plotly.v1+json": {
       "config": {
        "plotlyServerURL": "https://plot.ly"
       },
       "data": [
        {
         "alignmentgroup": "True",
         "hovertemplate": "Age=%{y}<extra></extra>",
         "legendgroup": "",
         "marker": {
          "color": "#636efa"
         },
         "name": "",
         "notched": false,
         "offsetgroup": "",
         "orientation": "v",
         "showlegend": false,
         "type": "box",
         "x0": " ",
         "xaxis": "x",
         "y": [
          21,
          21,
          23,
          27,
          22,
          29,
          23,
          22,
          24,
          22,
          26,
          21,
          22,
          41,
          23,
          22,
          27,
          29,
          30,
          23,
          22,
          52,
          22,
          22,
          21,
          20,
          21,
          23,
          19,
          23,
          29,
          31,
          24,
          39,
          22,
          21,
          22,
          21,
          23,
          21,
          21,
          23,
          21,
          21,
          21,
          21,
          21,
          21,
          20,
          21,
          21,
          20,
          23,
          23,
          22,
          23,
          22,
          21,
          17,
          20,
          21,
          20,
          22,
          22,
          21,
          21,
          23,
          23,
          30,
          23,
          23,
          22,
          24,
          19,
          24,
          23,
          24,
          24,
          23,
          23,
          19,
          30,
          23,
          19,
          25,
          23,
          21,
          19,
          22,
          29,
          25,
          20,
          55,
          20,
          24,
          26,
          23,
          21,
          21,
          23,
          21,
          22,
          21,
          22,
          38,
          25,
          25,
          22,
          22,
          21,
          21,
          22,
          18,
          22,
          19,
          17,
          15,
          17,
          23,
          19,
          23,
          23,
          21,
          24,
          23,
          18,
          19,
          19,
          20,
          27,
          20,
          23,
          19,
          61,
          30,
          24,
          25,
          44,
          31,
          25,
          23,
          25,
          23,
          34,
          22,
          21,
          24,
          36,
          27,
          32,
          25,
          30,
          38,
          34,
          22,
          31,
          35,
          21,
          40,
          27,
          20,
          55,
          21,
          25,
          35,
          30,
          29,
          20,
          22,
          45,
          22,
          18,
          23,
          18,
          21,
          38,
          18,
          22,
          26,
          21,
          18,
          23,
          22,
          23,
          21,
          31,
          39,
          25,
          35,
          33,
          20,
          26,
          20,
          20,
          23,
          19,
          22,
          41,
          18,
          23,
          23,
          41,
          26,
          29,
          27,
          23,
          19,
          30,
          22,
          22,
          20,
          21,
          24,
          21,
          21,
          21,
          23,
          21,
          21,
          21,
          21,
          23,
          21,
          22,
          23,
          25,
          20,
          24,
          40,
          32,
          20,
          21,
          51,
          34,
          19,
          19,
          21,
          19,
          20,
          19,
          17,
          22,
          20,
          33,
          21,
          20,
          20,
          20,
          21,
          21,
          20,
          20,
          56,
          26,
          22,
          19,
          18,
          19,
          18,
          18,
          21,
          28,
          18,
          23,
          18,
          18,
          39,
          38,
          17,
          23,
          23,
          19,
          18,
          25,
          25,
          18,
          16,
          21,
          32,
          18,
          21,
          18,
          18,
          17,
          20,
          21,
          21,
          18,
          17,
          19,
          16,
          17,
          21,
          19,
          18,
          16,
          21,
          26,
          18,
          23,
          26,
          18,
          16,
          16,
          20,
          23,
          24,
          23,
          20,
          16,
          17,
          17,
          16,
          17,
          26,
          26,
          38,
          18,
          25,
          27,
          21,
          38,
          23,
          18,
          30,
          21,
          18,
          23,
          19,
          19,
          17,
          17,
          27,
          23,
          18,
          19,
          20,
          18,
          17,
          19,
          21,
          20,
          23,
          23,
          18,
          17,
          21,
          17,
          18,
          20,
          17,
          26,
          17,
          24,
          17,
          27,
          17,
          17,
          41,
          33,
          20,
          40,
          37,
          19,
          24,
          24,
          33,
          40,
          37,
          20,
          19,
          17,
          18,
          21,
          18,
          41,
          36,
          18,
          18,
          17,
          25,
          21,
          29,
          17,
          18,
          16,
          18,
          37,
          18,
          16,
          23,
          18,
          18,
          18,
          17,
          20,
          38,
          20,
          21,
          21,
          18,
          26,
          27,
          26,
          34,
          18,
          33,
          19,
          20,
          33,
          20,
          20,
          33,
          33,
          33,
          14,
          34,
          18,
          18,
          29,
          18,
          18,
          19,
          33,
          33,
          19,
          22,
          20,
          23,
          26,
          18,
          18,
          19,
          18,
          19,
          19,
          18,
          18,
          19,
          19,
          18,
          18,
          26,
          18,
          19,
          19,
          19,
          19,
          24,
          18,
          19,
          19,
          23,
          18,
          20,
          18,
          33,
          19,
          19,
          19,
          18,
          21,
          27,
          17,
          18,
          18,
          22,
          22,
          20,
          19,
          20,
          18,
          18,
          18,
          19,
          18,
          18,
          18,
          19,
          17,
          18,
          18,
          20,
          18,
          36,
          21,
          23,
          20,
          21,
          19,
          24,
          25,
          45,
          20,
          18,
          19,
          18,
          20,
          25,
          18,
          26,
          21,
          21,
          18,
          26,
          26,
          21,
          19,
          17,
          22,
          22,
          21,
          22,
          21,
          22,
          21,
          21,
          22,
          23,
          18,
          19,
          19,
          20,
          21,
          20,
          19,
          20,
          21,
          21,
          21,
          19,
          23,
          22,
          23,
          18,
          21,
          18,
          18,
          18,
          18,
          19,
          19,
          19,
          23,
          20,
          23,
          19,
          18,
          19,
          29,
          32,
          24,
          17,
          16,
          16,
          18,
          18,
          18,
          17,
          19,
          18,
          17,
          17,
          16,
          17,
          17,
          19,
          22,
          20,
          22,
          19,
          17,
          19,
          18,
          19,
          17,
          19,
          19,
          19,
          17,
          17,
          18,
          22,
          21,
          23,
          17,
          18,
          18,
          18,
          19,
          20,
          19,
          17,
          18,
          18,
          17,
          17,
          18,
          18,
          18,
          19,
          19,
          19,
          19,
          19,
          19,
          18,
          18,
          18,
          19,
          21,
          22,
          23,
          19,
          20,
          20,
          20,
          20,
          21,
          18,
          19,
          22,
          18,
          34,
          16,
          18,
          17,
          16,
          17,
          22,
          17,
          19,
          19,
          17,
          23,
          18,
          19,
          18,
          17,
          18,
          20,
          19,
          18,
          19,
          17,
          21,
          22,
          20,
          22,
          21,
          23,
          21,
          21,
          23,
          22,
          18,
          19,
          19,
          19,
          21,
          19,
          20,
          20,
          21,
          21,
          21,
          18,
          22,
          19,
          21,
          18,
          21,
          18,
          18,
          19,
          18,
          19,
          19,
          19,
          22,
          20,
          22,
          19,
          18,
          19,
          27,
          25,
          22,
          17,
          16,
          17,
          18,
          18,
          18,
          17,
          19,
          18,
          18,
          16,
          16,
          17,
          17,
          19,
          22,
          20,
          22,
          19,
          16,
          19,
          18,
          19,
          18,
          19,
          20,
          19,
          17,
          17,
          17,
          21,
          21,
          22,
          17,
          18,
          18,
          18,
          19,
          20,
          19,
          17,
          18,
          17,
          17,
          17,
          18,
          18,
          18,
          19,
          19,
          19,
          19,
          19,
          19,
          18,
          18,
          18,
          26,
          21,
          25,
          21,
          21,
          19,
          41,
          21,
          21,
          18,
          23,
          33,
          21,
          21,
          35,
          36,
          21,
          22,
          21,
          21,
          30,
          21,
          19,
          19,
          21,
          21,
          22,
          20,
          21,
          21,
          18,
          21,
          29,
          26,
          22,
          19,
          24,
          32,
          23,
          16,
          16,
          23,
          35,
          23,
          37,
          19,
          16,
          18,
          18,
          17,
          29,
          31,
          18,
          19,
          19,
          18,
          18,
          19,
          28,
          26,
          21,
          22,
          26,
          21,
          21,
          21,
          19,
          19,
          42,
          22,
          21,
          23,
          22,
          18,
          23,
          32,
          32,
          21,
          21,
          21,
          37,
          40,
          38,
          21,
          21,
          21,
          21,
          21,
          21,
          21,
          29,
          31,
          22,
          26,
          19,
          19,
          19,
          19,
          21,
          21,
          21,
          21,
          21,
          19,
          21,
          21,
          21,
          21,
          19,
          21,
          21,
          27,
          28,
          26,
          23,
          20,
          21,
          30,
          30,
          23,
          18,
          18,
          16,
          21,
          27,
          35,
          23,
          23,
          40,
          16,
          16,
          16,
          18,
          18,
          19,
          18,
          17,
          33,
          33,
          18,
          18,
          19,
          19,
          20,
          18,
          18,
          20,
          17,
          25,
          26,
          21,
          21,
          26,
          21,
          21,
          21,
          19,
          38,
          39,
          20,
          20,
          21,
          18,
          23,
          23,
          33,
          21,
          21,
          21,
          21,
          38,
          38,
          36,
          21,
          21,
          22,
          21,
          21,
          21,
          29,
          31,
          20,
          19,
          19,
          21,
          21,
          21,
          22,
          22,
          19,
          21,
          21,
          21,
          21,
          18,
          21,
          21,
          29,
          24,
          26,
          23,
          19,
          22,
          31,
          23,
          22,
          17,
          17,
          16,
          23,
          34,
          22,
          39,
          19,
          16,
          17,
          19,
          19,
          19,
          17,
          17,
          29,
          32,
          31,
          18,
          19,
          19,
          19,
          18,
          18,
          18,
          19,
          21,
          21,
          20,
          21,
          32,
          31,
          29,
          21,
          22,
          28,
          38,
          35,
          20,
          22,
          19,
          20,
          20,
          22,
          22,
          22,
          23,
          24,
          23,
          25,
          31,
          24,
          28,
          17,
          19,
          25,
          22,
          23,
          23,
          25,
          34,
          26,
          55,
          34,
          21,
          18,
          42,
          22,
          28,
          25,
          21,
          23,
          23,
          23,
          38,
          37,
          33,
          34,
          31,
          34,
          18,
          18,
          19,
          50,
          17,
          18,
          18,
          34,
          17,
          33,
          33,
          36,
          20,
          18,
          34,
          23,
          19,
          19,
          29,
          27,
          21,
          33,
          18,
          30,
          33,
          24,
          24,
          19,
          34,
          34,
          23,
          43,
          45,
          22,
          21,
          31,
          31,
          21,
          30,
          34,
          20,
          19,
          20,
          22,
          23,
          24,
          23,
          29,
          24,
          28,
          17,
          19,
          24,
          23,
          28,
          34,
          28,
          55,
          34,
          20,
          38,
          22,
          21,
          25,
          23,
          39,
          34,
          33,
          19,
          19,
          46,
          17,
          18,
          38,
          22,
          33,
          37,
          19,
          37,
          24,
          18,
          27,
          18,
          33,
          18,
          30,
          25,
          18,
          35,
          23,
          39,
          21,
          22,
          21,
          21,
          32,
          32,
          30,
          21,
          22,
          24,
          37,
          34,
          21,
          21,
          19,
          19,
          20,
          22,
          22,
          22,
          23,
          24,
          23,
          26,
          31,
          23,
          26,
          17,
          19,
          25,
          22,
          23,
          22,
          23,
          34,
          25,
          55,
          34,
          21,
          18,
          41,
          21,
          27,
          25,
          21,
          20,
          22,
          23,
          38,
          37,
          34,
          34,
          31,
          33,
          18,
          19,
          19,
          47,
          17,
          17,
          20,
          33,
          17,
          33,
          34,
          35,
          19,
          18,
          31,
          23,
          19,
          19,
          30,
          27,
          21,
          33,
          18,
          32,
          31,
          24,
          24,
          19,
          35,
          33,
          23,
          39,
          45,
          25,
          26,
          30,
          39,
          31,
          25,
          43,
          42,
          22,
          22,
          24,
          21,
          22,
          23,
          37,
          22,
          23,
          22,
          18,
          25,
          40,
          23,
          37,
          31,
          22,
          40,
          23,
          21,
          35,
          22,
          23,
          23,
          40,
          39,
          26,
          23,
          20,
          21,
          23,
          20,
          18,
          18,
          18,
          23,
          23,
          20,
          21,
          18,
          18,
          19,
          22,
          21,
          21,
          22,
          37,
          37,
          17,
          37,
          43,
          18,
          18,
          29,
          18,
          24,
          29,
          18,
          21,
          19,
          18,
          18,
          26,
          25,
          36,
          38,
          30,
          28,
          42,
          47,
          22,
          22,
          23,
          22,
          22,
          23,
          23,
          23,
          38,
          37,
          22,
          22,
          21,
          22,
          16,
          16,
          29,
          29,
          43,
          40,
          22,
          23,
          37,
          37,
          31,
          31,
          21,
          21,
          36,
          39,
          24,
          23,
          35,
          31,
          23,
          23,
          22,
          22,
          41,
          40,
          29,
          30,
          23,
          24,
          17,
          18,
          22,
          22,
          18,
          21,
          18,
          21,
          23,
          21,
          21,
          21,
          18,
          18,
          19,
          18,
          22,
          22,
          19,
          20,
          39,
          38,
          19,
          17,
          38,
          38,
          18,
          18,
          29,
          30,
          18,
          18,
          31,
          29,
          18,
          18,
          21,
          21,
          18,
          18,
          20,
          20,
          26,
          25,
          26,
          25,
          29,
          32,
          38,
          39,
          33,
          26,
          23,
          24,
          42,
          43,
          43,
          39,
          22,
          22,
          22,
          22,
          23,
          22,
          21,
          21,
          22,
          22,
          23,
          23,
          39,
          37,
          22,
          22,
          23,
          23,
          21,
          21,
          18,
          18,
          26,
          25,
          40,
          38,
          24,
          23,
          38,
          37,
          31,
          29,
          21,
          21,
          39,
          36,
          22,
          23,
          22,
          21,
          36,
          37,
          22,
          22,
          22,
          22,
          22,
          22,
          38,
          40,
          40,
          38,
          25,
          26,
          23,
          23,
          20,
          21,
          22,
          22,
          23,
          24,
          20,
          20,
          21,
          18,
          18,
          18,
          20,
          18,
          22,
          23,
          22,
          23,
          20,
          20,
          21,
          21,
          18,
          18,
          18,
          18,
          19,
          19,
          22,
          22,
          22,
          21,
          20,
          19,
          21,
          20,
          39,
          37,
          37,
          37,
          18,
          17,
          39,
          37,
          41,
          43,
          18,
          18,
          18,
          18,
          29,
          28,
          18,
          18,
          23,
          24,
          29,
          27,
          18,
          18,
          21,
          21,
          20,
          20,
          19,
          18,
          18,
          19,
          30,
          25,
          37,
          32,
          27,
          30,
          26,
          34,
          26,
          28,
          27,
          25,
          30,
          31,
          24,
          24,
          41,
          27,
          23,
          22,
          24,
          20,
          30,
          25,
          30,
          28,
          30,
          29,
          31,
          36,
          21,
          23,
          24,
          25,
          31,
          30,
          23,
          23,
          40,
          34,
          22,
          21,
          24,
          20,
          28,
          26,
          25,
          25,
          31,
          40,
          33,
          30,
          30,
          29,
          30,
          30,
          26,
          26,
          37,
          28,
          25,
          25,
          29,
          26,
          26,
          27,
          22,
          24,
          31,
          30,
          31,
          30,
          25,
          25,
          25,
          25,
          38,
          38,
          25,
          32,
          23,
          24,
          24,
          22,
          24,
          30,
          20,
          25,
          30,
          30,
          24,
          24,
          29,
          29,
          37,
          39,
          22,
          22,
          24,
          24,
          31,
          31,
          22,
          22,
          40,
          41,
          21,
          21,
          24,
          24,
          29,
          29,
          25,
          25,
          40,
          33,
          32,
          30,
          29,
          28,
          30,
          30,
          26,
          26,
          33,
          32,
          26,
          25,
          29,
          27,
          28,
          27,
          25,
          24,
          30,
          30,
          31,
          31,
          25,
          25,
          24,
          24,
          40,
          40,
          27,
          30,
          23,
          24,
          22,
          23,
          24,
          26,
          20,
          22,
          28,
          30,
          25,
          25,
          31,
          30,
          28,
          27,
          31,
          30,
          30,
          31,
          31,
          30,
          37,
          37,
          21,
          22,
          25,
          23,
          23,
          24,
          25,
          25,
          30,
          30,
          31,
          30,
          24,
          23,
          23,
          23,
          39,
          36,
          33,
          34,
          22,
          22,
          23,
          22,
          24,
          24,
          20,
          23,
          28,
          29,
          27,
          24,
          25,
          25,
          25,
          25,
          30,
          30,
          40,
          40,
          30,
          33,
          30,
          29,
          31,
          30,
          29,
          30,
          30,
          31,
          30,
          30,
          26,
          26,
          25,
          26,
          37,
          37,
          28,
          27,
          25,
          25,
          25,
          25,
          29,
          29,
          26,
          28,
          26,
          27,
          27,
          26,
          22,
          22,
          23,
          24,
          30,
          31,
          31,
          30,
          31,
          31,
          30,
          30,
          25,
          25,
          25,
          25,
          25,
          25,
          25,
          25,
          37,
          38,
          38,
          38,
          24,
          26,
          33,
          32,
          23,
          23,
          23,
          24,
          24,
          24,
          22,
          23,
          24,
          24,
          30,
          30,
          20,
          20,
          25,
          26,
          25,
          26,
          18,
          18,
          26,
          26,
          25,
          25,
          22,
          21,
          26,
          26,
          21,
          22,
          21,
          21,
          18,
          24,
          26,
          26,
          25,
          26,
          20,
          24,
          25,
          25,
          18,
          18,
          26,
          26,
          25,
          25,
          20,
          20,
          26,
          26,
          21,
          20,
          20,
          20,
          18,
          21,
          26,
          26,
          25,
          26,
          22,
          19,
          25,
          25,
          26,
          25,
          18,
          21,
          18,
          20,
          26,
          26,
          26,
          26,
          25,
          25,
          25,
          25,
          19,
          21,
          21,
          21,
          26,
          26,
          26,
          25,
          21,
          21,
          23,
          24,
          18,
          19,
          21,
          21,
          19,
          21,
          24,
          25,
          26,
          26,
          26,
          26,
          25,
          25,
          26,
          25,
          21,
          20,
          22,
          23,
          25,
          25,
          20,
          19,
          26,
          26,
          25,
          25,
          19,
          20,
          26,
          26,
          21,
          20,
          21,
          21,
          18,
          19,
          26,
          26,
          26,
          26,
          21,
          21,
          25,
          25,
          25,
          25,
          18,
          21,
          20,
          18,
          26,
          26,
          25,
          25,
          25,
          25,
          25,
          25,
          21,
          22,
          21,
          21,
          26,
          26,
          26,
          26,
          21,
          21,
          23,
          23,
          20,
          20,
          19,
          20,
          18,
          19,
          24,
          25,
          26,
          26,
          26,
          26,
          25,
          25,
          26,
          26,
          20,
          20,
          23,
          24,
          25,
          25,
          25,
          25,
          19,
          18,
          19,
          18,
          26,
          26,
          26,
          26,
          25,
          25,
          25,
          25,
          20,
          20,
          21,
          21,
          26,
          26,
          26,
          26,
          21,
          21,
          21,
          21,
          20,
          21,
          20,
          21,
          20,
          18,
          20,
          21,
          26,
          26,
          26,
          26,
          25,
          25,
          26,
          26,
          23,
          23,
          18,
          18,
          25,
          25,
          25,
          25,
          25,
          25,
          25,
          25,
          18,
          20,
          21,
          21,
          18,
          18,
          20,
          20,
          26,
          26,
          26,
          26,
          26,
          25,
          26,
          26,
          25,
          25,
          25,
          25,
          25,
          25,
          25,
          25,
          19,
          18,
          20,
          20,
          21,
          21,
          21,
          21,
          25,
          26,
          26,
          26,
          26,
          26,
          25,
          25,
          20,
          20,
          21,
          21,
          23,
          24,
          24,
          24,
          18,
          18,
          20,
          20,
          21,
          19,
          19,
          21,
          19,
          18,
          21,
          21,
          24,
          25,
          25,
          25,
          26,
          26,
          26,
          26,
          26,
          26,
          26,
          26,
          25,
          25,
          25,
          25,
          25,
          25,
          25,
          25,
          21,
          21,
          21,
          20,
          21,
          22,
          24,
          23
         ],
         "y0": " ",
         "yaxis": "y"
        }
       ],
       "layout": {
        "boxmode": "group",
        "legend": {
         "tracegroupgap": 0
        },
        "margin": {
         "t": 60
        },
        "template": {
         "data": {
          "bar": [
           {
            "error_x": {
             "color": "#2a3f5f"
            },
            "error_y": {
             "color": "#2a3f5f"
            },
            "marker": {
             "line": {
              "color": "#E5ECF6",
              "width": 0.5
             },
             "pattern": {
              "fillmode": "overlay",
              "size": 10,
              "solidity": 0.2
             }
            },
            "type": "bar"
           }
          ],
          "barpolar": [
           {
            "marker": {
             "line": {
              "color": "#E5ECF6",
              "width": 0.5
             },
             "pattern": {
              "fillmode": "overlay",
              "size": 10,
              "solidity": 0.2
             }
            },
            "type": "barpolar"
           }
          ],
          "carpet": [
           {
            "aaxis": {
             "endlinecolor": "#2a3f5f",
             "gridcolor": "white",
             "linecolor": "white",
             "minorgridcolor": "white",
             "startlinecolor": "#2a3f5f"
            },
            "baxis": {
             "endlinecolor": "#2a3f5f",
             "gridcolor": "white",
             "linecolor": "white",
             "minorgridcolor": "white",
             "startlinecolor": "#2a3f5f"
            },
            "type": "carpet"
           }
          ],
          "choropleth": [
           {
            "colorbar": {
             "outlinewidth": 0,
             "ticks": ""
            },
            "type": "choropleth"
           }
          ],
          "contour": [
           {
            "colorbar": {
             "outlinewidth": 0,
             "ticks": ""
            },
            "colorscale": [
             [
              0,
              "#0d0887"
             ],
             [
              0.1111111111111111,
              "#46039f"
             ],
             [
              0.2222222222222222,
              "#7201a8"
             ],
             [
              0.3333333333333333,
              "#9c179e"
             ],
             [
              0.4444444444444444,
              "#bd3786"
             ],
             [
              0.5555555555555556,
              "#d8576b"
             ],
             [
              0.6666666666666666,
              "#ed7953"
             ],
             [
              0.7777777777777778,
              "#fb9f3a"
             ],
             [
              0.8888888888888888,
              "#fdca26"
             ],
             [
              1,
              "#f0f921"
             ]
            ],
            "type": "contour"
           }
          ],
          "contourcarpet": [
           {
            "colorbar": {
             "outlinewidth": 0,
             "ticks": ""
            },
            "type": "contourcarpet"
           }
          ],
          "heatmap": [
           {
            "colorbar": {
             "outlinewidth": 0,
             "ticks": ""
            },
            "colorscale": [
             [
              0,
              "#0d0887"
             ],
             [
              0.1111111111111111,
              "#46039f"
             ],
             [
              0.2222222222222222,
              "#7201a8"
             ],
             [
              0.3333333333333333,
              "#9c179e"
             ],
             [
              0.4444444444444444,
              "#bd3786"
             ],
             [
              0.5555555555555556,
              "#d8576b"
             ],
             [
              0.6666666666666666,
              "#ed7953"
             ],
             [
              0.7777777777777778,
              "#fb9f3a"
             ],
             [
              0.8888888888888888,
              "#fdca26"
             ],
             [
              1,
              "#f0f921"
             ]
            ],
            "type": "heatmap"
           }
          ],
          "heatmapgl": [
           {
            "colorbar": {
             "outlinewidth": 0,
             "ticks": ""
            },
            "colorscale": [
             [
              0,
              "#0d0887"
             ],
             [
              0.1111111111111111,
              "#46039f"
             ],
             [
              0.2222222222222222,
              "#7201a8"
             ],
             [
              0.3333333333333333,
              "#9c179e"
             ],
             [
              0.4444444444444444,
              "#bd3786"
             ],
             [
              0.5555555555555556,
              "#d8576b"
             ],
             [
              0.6666666666666666,
              "#ed7953"
             ],
             [
              0.7777777777777778,
              "#fb9f3a"
             ],
             [
              0.8888888888888888,
              "#fdca26"
             ],
             [
              1,
              "#f0f921"
             ]
            ],
            "type": "heatmapgl"
           }
          ],
          "histogram": [
           {
            "marker": {
             "pattern": {
              "fillmode": "overlay",
              "size": 10,
              "solidity": 0.2
             }
            },
            "type": "histogram"
           }
          ],
          "histogram2d": [
           {
            "colorbar": {
             "outlinewidth": 0,
             "ticks": ""
            },
            "colorscale": [
             [
              0,
              "#0d0887"
             ],
             [
              0.1111111111111111,
              "#46039f"
             ],
             [
              0.2222222222222222,
              "#7201a8"
             ],
             [
              0.3333333333333333,
              "#9c179e"
             ],
             [
              0.4444444444444444,
              "#bd3786"
             ],
             [
              0.5555555555555556,
              "#d8576b"
             ],
             [
              0.6666666666666666,
              "#ed7953"
             ],
             [
              0.7777777777777778,
              "#fb9f3a"
             ],
             [
              0.8888888888888888,
              "#fdca26"
             ],
             [
              1,
              "#f0f921"
             ]
            ],
            "type": "histogram2d"
           }
          ],
          "histogram2dcontour": [
           {
            "colorbar": {
             "outlinewidth": 0,
             "ticks": ""
            },
            "colorscale": [
             [
              0,
              "#0d0887"
             ],
             [
              0.1111111111111111,
              "#46039f"
             ],
             [
              0.2222222222222222,
              "#7201a8"
             ],
             [
              0.3333333333333333,
              "#9c179e"
             ],
             [
              0.4444444444444444,
              "#bd3786"
             ],
             [
              0.5555555555555556,
              "#d8576b"
             ],
             [
              0.6666666666666666,
              "#ed7953"
             ],
             [
              0.7777777777777778,
              "#fb9f3a"
             ],
             [
              0.8888888888888888,
              "#fdca26"
             ],
             [
              1,
              "#f0f921"
             ]
            ],
            "type": "histogram2dcontour"
           }
          ],
          "mesh3d": [
           {
            "colorbar": {
             "outlinewidth": 0,
             "ticks": ""
            },
            "type": "mesh3d"
           }
          ],
          "parcoords": [
           {
            "line": {
             "colorbar": {
              "outlinewidth": 0,
              "ticks": ""
             }
            },
            "type": "parcoords"
           }
          ],
          "pie": [
           {
            "automargin": true,
            "type": "pie"
           }
          ],
          "scatter": [
           {
            "fillpattern": {
             "fillmode": "overlay",
             "size": 10,
             "solidity": 0.2
            },
            "type": "scatter"
           }
          ],
          "scatter3d": [
           {
            "line": {
             "colorbar": {
              "outlinewidth": 0,
              "ticks": ""
             }
            },
            "marker": {
             "colorbar": {
              "outlinewidth": 0,
              "ticks": ""
             }
            },
            "type": "scatter3d"
           }
          ],
          "scattercarpet": [
           {
            "marker": {
             "colorbar": {
              "outlinewidth": 0,
              "ticks": ""
             }
            },
            "type": "scattercarpet"
           }
          ],
          "scattergeo": [
           {
            "marker": {
             "colorbar": {
              "outlinewidth": 0,
              "ticks": ""
             }
            },
            "type": "scattergeo"
           }
          ],
          "scattergl": [
           {
            "marker": {
             "colorbar": {
              "outlinewidth": 0,
              "ticks": ""
             }
            },
            "type": "scattergl"
           }
          ],
          "scattermapbox": [
           {
            "marker": {
             "colorbar": {
              "outlinewidth": 0,
              "ticks": ""
             }
            },
            "type": "scattermapbox"
           }
          ],
          "scatterpolar": [
           {
            "marker": {
             "colorbar": {
              "outlinewidth": 0,
              "ticks": ""
             }
            },
            "type": "scatterpolar"
           }
          ],
          "scatterpolargl": [
           {
            "marker": {
             "colorbar": {
              "outlinewidth": 0,
              "ticks": ""
             }
            },
            "type": "scatterpolargl"
           }
          ],
          "scatterternary": [
           {
            "marker": {
             "colorbar": {
              "outlinewidth": 0,
              "ticks": ""
             }
            },
            "type": "scatterternary"
           }
          ],
          "surface": [
           {
            "colorbar": {
             "outlinewidth": 0,
             "ticks": ""
            },
            "colorscale": [
             [
              0,
              "#0d0887"
             ],
             [
              0.1111111111111111,
              "#46039f"
             ],
             [
              0.2222222222222222,
              "#7201a8"
             ],
             [
              0.3333333333333333,
              "#9c179e"
             ],
             [
              0.4444444444444444,
              "#bd3786"
             ],
             [
              0.5555555555555556,
              "#d8576b"
             ],
             [
              0.6666666666666666,
              "#ed7953"
             ],
             [
              0.7777777777777778,
              "#fb9f3a"
             ],
             [
              0.8888888888888888,
              "#fdca26"
             ],
             [
              1,
              "#f0f921"
             ]
            ],
            "type": "surface"
           }
          ],
          "table": [
           {
            "cells": {
             "fill": {
              "color": "#EBF0F8"
             },
             "line": {
              "color": "white"
             }
            },
            "header": {
             "fill": {
              "color": "#C8D4E3"
             },
             "line": {
              "color": "white"
             }
            },
            "type": "table"
           }
          ]
         },
         "layout": {
          "annotationdefaults": {
           "arrowcolor": "#2a3f5f",
           "arrowhead": 0,
           "arrowwidth": 1
          },
          "autotypenumbers": "strict",
          "coloraxis": {
           "colorbar": {
            "outlinewidth": 0,
            "ticks": ""
           }
          },
          "colorscale": {
           "diverging": [
            [
             0,
             "#8e0152"
            ],
            [
             0.1,
             "#c51b7d"
            ],
            [
             0.2,
             "#de77ae"
            ],
            [
             0.3,
             "#f1b6da"
            ],
            [
             0.4,
             "#fde0ef"
            ],
            [
             0.5,
             "#f7f7f7"
            ],
            [
             0.6,
             "#e6f5d0"
            ],
            [
             0.7,
             "#b8e186"
            ],
            [
             0.8,
             "#7fbc41"
            ],
            [
             0.9,
             "#4d9221"
            ],
            [
             1,
             "#276419"
            ]
           ],
           "sequential": [
            [
             0,
             "#0d0887"
            ],
            [
             0.1111111111111111,
             "#46039f"
            ],
            [
             0.2222222222222222,
             "#7201a8"
            ],
            [
             0.3333333333333333,
             "#9c179e"
            ],
            [
             0.4444444444444444,
             "#bd3786"
            ],
            [
             0.5555555555555556,
             "#d8576b"
            ],
            [
             0.6666666666666666,
             "#ed7953"
            ],
            [
             0.7777777777777778,
             "#fb9f3a"
            ],
            [
             0.8888888888888888,
             "#fdca26"
            ],
            [
             1,
             "#f0f921"
            ]
           ],
           "sequentialminus": [
            [
             0,
             "#0d0887"
            ],
            [
             0.1111111111111111,
             "#46039f"
            ],
            [
             0.2222222222222222,
             "#7201a8"
            ],
            [
             0.3333333333333333,
             "#9c179e"
            ],
            [
             0.4444444444444444,
             "#bd3786"
            ],
            [
             0.5555555555555556,
             "#d8576b"
            ],
            [
             0.6666666666666666,
             "#ed7953"
            ],
            [
             0.7777777777777778,
             "#fb9f3a"
            ],
            [
             0.8888888888888888,
             "#fdca26"
            ],
            [
             1,
             "#f0f921"
            ]
           ]
          },
          "colorway": [
           "#636efa",
           "#EF553B",
           "#00cc96",
           "#ab63fa",
           "#FFA15A",
           "#19d3f3",
           "#FF6692",
           "#B6E880",
           "#FF97FF",
           "#FECB52"
          ],
          "font": {
           "color": "#2a3f5f"
          },
          "geo": {
           "bgcolor": "white",
           "lakecolor": "white",
           "landcolor": "#E5ECF6",
           "showlakes": true,
           "showland": true,
           "subunitcolor": "white"
          },
          "hoverlabel": {
           "align": "left"
          },
          "hovermode": "closest",
          "mapbox": {
           "style": "light"
          },
          "paper_bgcolor": "white",
          "plot_bgcolor": "#E5ECF6",
          "polar": {
           "angularaxis": {
            "gridcolor": "white",
            "linecolor": "white",
            "ticks": ""
           },
           "bgcolor": "#E5ECF6",
           "radialaxis": {
            "gridcolor": "white",
            "linecolor": "white",
            "ticks": ""
           }
          },
          "scene": {
           "xaxis": {
            "backgroundcolor": "#E5ECF6",
            "gridcolor": "white",
            "gridwidth": 2,
            "linecolor": "white",
            "showbackground": true,
            "ticks": "",
            "zerolinecolor": "white"
           },
           "yaxis": {
            "backgroundcolor": "#E5ECF6",
            "gridcolor": "white",
            "gridwidth": 2,
            "linecolor": "white",
            "showbackground": true,
            "ticks": "",
            "zerolinecolor": "white"
           },
           "zaxis": {
            "backgroundcolor": "#E5ECF6",
            "gridcolor": "white",
            "gridwidth": 2,
            "linecolor": "white",
            "showbackground": true,
            "ticks": "",
            "zerolinecolor": "white"
           }
          },
          "shapedefaults": {
           "line": {
            "color": "#2a3f5f"
           }
          },
          "ternary": {
           "aaxis": {
            "gridcolor": "white",
            "linecolor": "white",
            "ticks": ""
           },
           "baxis": {
            "gridcolor": "white",
            "linecolor": "white",
            "ticks": ""
           },
           "bgcolor": "#E5ECF6",
           "caxis": {
            "gridcolor": "white",
            "linecolor": "white",
            "ticks": ""
           }
          },
          "title": {
           "x": 0.05
          },
          "xaxis": {
           "automargin": true,
           "gridcolor": "white",
           "linecolor": "white",
           "ticks": "",
           "title": {
            "standoff": 15
           },
           "zerolinecolor": "white",
           "zerolinewidth": 2
          },
          "yaxis": {
           "automargin": true,
           "gridcolor": "white",
           "linecolor": "white",
           "ticks": "",
           "title": {
            "standoff": 15
           },
           "zerolinecolor": "white",
           "zerolinewidth": 2
          }
         }
        },
        "xaxis": {
         "anchor": "y",
         "domain": [
          0,
          1
         ]
        },
        "yaxis": {
         "anchor": "x",
         "domain": [
          0,
          1
         ],
         "title": {
          "text": "Age"
         }
        }
       }
      }
     },
     "metadata": {},
     "output_type": "display_data"
    }
   ],
   "source": [
    "px.box(df_obesity, y=\"Age\")"
   ]
  },
  {
   "cell_type": "code",
   "execution_count": 24,
   "metadata": {},
   "outputs": [
    {
     "data": {
      "application/vnd.plotly.v1+json": {
       "config": {
        "plotlyServerURL": "https://plot.ly"
       },
       "data": [
        {
         "alignmentgroup": "True",
         "hovertemplate": "variable=count<br>Gender=%{x}<br>value=%{y}<extra></extra>",
         "legendgroup": "count",
         "marker": {
          "color": "#636efa",
          "pattern": {
           "shape": ""
          }
         },
         "name": "count",
         "offsetgroup": "count",
         "orientation": "v",
         "showlegend": true,
         "textposition": "auto",
         "type": "bar",
         "x": [
          "Male",
          "Female"
         ],
         "xaxis": "x",
         "y": [
          1068,
          1043
         ],
         "yaxis": "y"
        }
       ],
       "layout": {
        "barmode": "relative",
        "legend": {
         "title": {
          "text": "variable"
         },
         "tracegroupgap": 0
        },
        "margin": {
         "t": 60
        },
        "template": {
         "data": {
          "bar": [
           {
            "error_x": {
             "color": "#2a3f5f"
            },
            "error_y": {
             "color": "#2a3f5f"
            },
            "marker": {
             "line": {
              "color": "#E5ECF6",
              "width": 0.5
             },
             "pattern": {
              "fillmode": "overlay",
              "size": 10,
              "solidity": 0.2
             }
            },
            "type": "bar"
           }
          ],
          "barpolar": [
           {
            "marker": {
             "line": {
              "color": "#E5ECF6",
              "width": 0.5
             },
             "pattern": {
              "fillmode": "overlay",
              "size": 10,
              "solidity": 0.2
             }
            },
            "type": "barpolar"
           }
          ],
          "carpet": [
           {
            "aaxis": {
             "endlinecolor": "#2a3f5f",
             "gridcolor": "white",
             "linecolor": "white",
             "minorgridcolor": "white",
             "startlinecolor": "#2a3f5f"
            },
            "baxis": {
             "endlinecolor": "#2a3f5f",
             "gridcolor": "white",
             "linecolor": "white",
             "minorgridcolor": "white",
             "startlinecolor": "#2a3f5f"
            },
            "type": "carpet"
           }
          ],
          "choropleth": [
           {
            "colorbar": {
             "outlinewidth": 0,
             "ticks": ""
            },
            "type": "choropleth"
           }
          ],
          "contour": [
           {
            "colorbar": {
             "outlinewidth": 0,
             "ticks": ""
            },
            "colorscale": [
             [
              0,
              "#0d0887"
             ],
             [
              0.1111111111111111,
              "#46039f"
             ],
             [
              0.2222222222222222,
              "#7201a8"
             ],
             [
              0.3333333333333333,
              "#9c179e"
             ],
             [
              0.4444444444444444,
              "#bd3786"
             ],
             [
              0.5555555555555556,
              "#d8576b"
             ],
             [
              0.6666666666666666,
              "#ed7953"
             ],
             [
              0.7777777777777778,
              "#fb9f3a"
             ],
             [
              0.8888888888888888,
              "#fdca26"
             ],
             [
              1,
              "#f0f921"
             ]
            ],
            "type": "contour"
           }
          ],
          "contourcarpet": [
           {
            "colorbar": {
             "outlinewidth": 0,
             "ticks": ""
            },
            "type": "contourcarpet"
           }
          ],
          "heatmap": [
           {
            "colorbar": {
             "outlinewidth": 0,
             "ticks": ""
            },
            "colorscale": [
             [
              0,
              "#0d0887"
             ],
             [
              0.1111111111111111,
              "#46039f"
             ],
             [
              0.2222222222222222,
              "#7201a8"
             ],
             [
              0.3333333333333333,
              "#9c179e"
             ],
             [
              0.4444444444444444,
              "#bd3786"
             ],
             [
              0.5555555555555556,
              "#d8576b"
             ],
             [
              0.6666666666666666,
              "#ed7953"
             ],
             [
              0.7777777777777778,
              "#fb9f3a"
             ],
             [
              0.8888888888888888,
              "#fdca26"
             ],
             [
              1,
              "#f0f921"
             ]
            ],
            "type": "heatmap"
           }
          ],
          "heatmapgl": [
           {
            "colorbar": {
             "outlinewidth": 0,
             "ticks": ""
            },
            "colorscale": [
             [
              0,
              "#0d0887"
             ],
             [
              0.1111111111111111,
              "#46039f"
             ],
             [
              0.2222222222222222,
              "#7201a8"
             ],
             [
              0.3333333333333333,
              "#9c179e"
             ],
             [
              0.4444444444444444,
              "#bd3786"
             ],
             [
              0.5555555555555556,
              "#d8576b"
             ],
             [
              0.6666666666666666,
              "#ed7953"
             ],
             [
              0.7777777777777778,
              "#fb9f3a"
             ],
             [
              0.8888888888888888,
              "#fdca26"
             ],
             [
              1,
              "#f0f921"
             ]
            ],
            "type": "heatmapgl"
           }
          ],
          "histogram": [
           {
            "marker": {
             "pattern": {
              "fillmode": "overlay",
              "size": 10,
              "solidity": 0.2
             }
            },
            "type": "histogram"
           }
          ],
          "histogram2d": [
           {
            "colorbar": {
             "outlinewidth": 0,
             "ticks": ""
            },
            "colorscale": [
             [
              0,
              "#0d0887"
             ],
             [
              0.1111111111111111,
              "#46039f"
             ],
             [
              0.2222222222222222,
              "#7201a8"
             ],
             [
              0.3333333333333333,
              "#9c179e"
             ],
             [
              0.4444444444444444,
              "#bd3786"
             ],
             [
              0.5555555555555556,
              "#d8576b"
             ],
             [
              0.6666666666666666,
              "#ed7953"
             ],
             [
              0.7777777777777778,
              "#fb9f3a"
             ],
             [
              0.8888888888888888,
              "#fdca26"
             ],
             [
              1,
              "#f0f921"
             ]
            ],
            "type": "histogram2d"
           }
          ],
          "histogram2dcontour": [
           {
            "colorbar": {
             "outlinewidth": 0,
             "ticks": ""
            },
            "colorscale": [
             [
              0,
              "#0d0887"
             ],
             [
              0.1111111111111111,
              "#46039f"
             ],
             [
              0.2222222222222222,
              "#7201a8"
             ],
             [
              0.3333333333333333,
              "#9c179e"
             ],
             [
              0.4444444444444444,
              "#bd3786"
             ],
             [
              0.5555555555555556,
              "#d8576b"
             ],
             [
              0.6666666666666666,
              "#ed7953"
             ],
             [
              0.7777777777777778,
              "#fb9f3a"
             ],
             [
              0.8888888888888888,
              "#fdca26"
             ],
             [
              1,
              "#f0f921"
             ]
            ],
            "type": "histogram2dcontour"
           }
          ],
          "mesh3d": [
           {
            "colorbar": {
             "outlinewidth": 0,
             "ticks": ""
            },
            "type": "mesh3d"
           }
          ],
          "parcoords": [
           {
            "line": {
             "colorbar": {
              "outlinewidth": 0,
              "ticks": ""
             }
            },
            "type": "parcoords"
           }
          ],
          "pie": [
           {
            "automargin": true,
            "type": "pie"
           }
          ],
          "scatter": [
           {
            "fillpattern": {
             "fillmode": "overlay",
             "size": 10,
             "solidity": 0.2
            },
            "type": "scatter"
           }
          ],
          "scatter3d": [
           {
            "line": {
             "colorbar": {
              "outlinewidth": 0,
              "ticks": ""
             }
            },
            "marker": {
             "colorbar": {
              "outlinewidth": 0,
              "ticks": ""
             }
            },
            "type": "scatter3d"
           }
          ],
          "scattercarpet": [
           {
            "marker": {
             "colorbar": {
              "outlinewidth": 0,
              "ticks": ""
             }
            },
            "type": "scattercarpet"
           }
          ],
          "scattergeo": [
           {
            "marker": {
             "colorbar": {
              "outlinewidth": 0,
              "ticks": ""
             }
            },
            "type": "scattergeo"
           }
          ],
          "scattergl": [
           {
            "marker": {
             "colorbar": {
              "outlinewidth": 0,
              "ticks": ""
             }
            },
            "type": "scattergl"
           }
          ],
          "scattermapbox": [
           {
            "marker": {
             "colorbar": {
              "outlinewidth": 0,
              "ticks": ""
             }
            },
            "type": "scattermapbox"
           }
          ],
          "scatterpolar": [
           {
            "marker": {
             "colorbar": {
              "outlinewidth": 0,
              "ticks": ""
             }
            },
            "type": "scatterpolar"
           }
          ],
          "scatterpolargl": [
           {
            "marker": {
             "colorbar": {
              "outlinewidth": 0,
              "ticks": ""
             }
            },
            "type": "scatterpolargl"
           }
          ],
          "scatterternary": [
           {
            "marker": {
             "colorbar": {
              "outlinewidth": 0,
              "ticks": ""
             }
            },
            "type": "scatterternary"
           }
          ],
          "surface": [
           {
            "colorbar": {
             "outlinewidth": 0,
             "ticks": ""
            },
            "colorscale": [
             [
              0,
              "#0d0887"
             ],
             [
              0.1111111111111111,
              "#46039f"
             ],
             [
              0.2222222222222222,
              "#7201a8"
             ],
             [
              0.3333333333333333,
              "#9c179e"
             ],
             [
              0.4444444444444444,
              "#bd3786"
             ],
             [
              0.5555555555555556,
              "#d8576b"
             ],
             [
              0.6666666666666666,
              "#ed7953"
             ],
             [
              0.7777777777777778,
              "#fb9f3a"
             ],
             [
              0.8888888888888888,
              "#fdca26"
             ],
             [
              1,
              "#f0f921"
             ]
            ],
            "type": "surface"
           }
          ],
          "table": [
           {
            "cells": {
             "fill": {
              "color": "#EBF0F8"
             },
             "line": {
              "color": "white"
             }
            },
            "header": {
             "fill": {
              "color": "#C8D4E3"
             },
             "line": {
              "color": "white"
             }
            },
            "type": "table"
           }
          ]
         },
         "layout": {
          "annotationdefaults": {
           "arrowcolor": "#2a3f5f",
           "arrowhead": 0,
           "arrowwidth": 1
          },
          "autotypenumbers": "strict",
          "coloraxis": {
           "colorbar": {
            "outlinewidth": 0,
            "ticks": ""
           }
          },
          "colorscale": {
           "diverging": [
            [
             0,
             "#8e0152"
            ],
            [
             0.1,
             "#c51b7d"
            ],
            [
             0.2,
             "#de77ae"
            ],
            [
             0.3,
             "#f1b6da"
            ],
            [
             0.4,
             "#fde0ef"
            ],
            [
             0.5,
             "#f7f7f7"
            ],
            [
             0.6,
             "#e6f5d0"
            ],
            [
             0.7,
             "#b8e186"
            ],
            [
             0.8,
             "#7fbc41"
            ],
            [
             0.9,
             "#4d9221"
            ],
            [
             1,
             "#276419"
            ]
           ],
           "sequential": [
            [
             0,
             "#0d0887"
            ],
            [
             0.1111111111111111,
             "#46039f"
            ],
            [
             0.2222222222222222,
             "#7201a8"
            ],
            [
             0.3333333333333333,
             "#9c179e"
            ],
            [
             0.4444444444444444,
             "#bd3786"
            ],
            [
             0.5555555555555556,
             "#d8576b"
            ],
            [
             0.6666666666666666,
             "#ed7953"
            ],
            [
             0.7777777777777778,
             "#fb9f3a"
            ],
            [
             0.8888888888888888,
             "#fdca26"
            ],
            [
             1,
             "#f0f921"
            ]
           ],
           "sequentialminus": [
            [
             0,
             "#0d0887"
            ],
            [
             0.1111111111111111,
             "#46039f"
            ],
            [
             0.2222222222222222,
             "#7201a8"
            ],
            [
             0.3333333333333333,
             "#9c179e"
            ],
            [
             0.4444444444444444,
             "#bd3786"
            ],
            [
             0.5555555555555556,
             "#d8576b"
            ],
            [
             0.6666666666666666,
             "#ed7953"
            ],
            [
             0.7777777777777778,
             "#fb9f3a"
            ],
            [
             0.8888888888888888,
             "#fdca26"
            ],
            [
             1,
             "#f0f921"
            ]
           ]
          },
          "colorway": [
           "#636efa",
           "#EF553B",
           "#00cc96",
           "#ab63fa",
           "#FFA15A",
           "#19d3f3",
           "#FF6692",
           "#B6E880",
           "#FF97FF",
           "#FECB52"
          ],
          "font": {
           "color": "#2a3f5f"
          },
          "geo": {
           "bgcolor": "white",
           "lakecolor": "white",
           "landcolor": "#E5ECF6",
           "showlakes": true,
           "showland": true,
           "subunitcolor": "white"
          },
          "hoverlabel": {
           "align": "left"
          },
          "hovermode": "closest",
          "mapbox": {
           "style": "light"
          },
          "paper_bgcolor": "white",
          "plot_bgcolor": "#E5ECF6",
          "polar": {
           "angularaxis": {
            "gridcolor": "white",
            "linecolor": "white",
            "ticks": ""
           },
           "bgcolor": "#E5ECF6",
           "radialaxis": {
            "gridcolor": "white",
            "linecolor": "white",
            "ticks": ""
           }
          },
          "scene": {
           "xaxis": {
            "backgroundcolor": "#E5ECF6",
            "gridcolor": "white",
            "gridwidth": 2,
            "linecolor": "white",
            "showbackground": true,
            "ticks": "",
            "zerolinecolor": "white"
           },
           "yaxis": {
            "backgroundcolor": "#E5ECF6",
            "gridcolor": "white",
            "gridwidth": 2,
            "linecolor": "white",
            "showbackground": true,
            "ticks": "",
            "zerolinecolor": "white"
           },
           "zaxis": {
            "backgroundcolor": "#E5ECF6",
            "gridcolor": "white",
            "gridwidth": 2,
            "linecolor": "white",
            "showbackground": true,
            "ticks": "",
            "zerolinecolor": "white"
           }
          },
          "shapedefaults": {
           "line": {
            "color": "#2a3f5f"
           }
          },
          "ternary": {
           "aaxis": {
            "gridcolor": "white",
            "linecolor": "white",
            "ticks": ""
           },
           "baxis": {
            "gridcolor": "white",
            "linecolor": "white",
            "ticks": ""
           },
           "bgcolor": "#E5ECF6",
           "caxis": {
            "gridcolor": "white",
            "linecolor": "white",
            "ticks": ""
           }
          },
          "title": {
           "x": 0.05
          },
          "xaxis": {
           "automargin": true,
           "gridcolor": "white",
           "linecolor": "white",
           "ticks": "",
           "title": {
            "standoff": 15
           },
           "zerolinecolor": "white",
           "zerolinewidth": 2
          },
          "yaxis": {
           "automargin": true,
           "gridcolor": "white",
           "linecolor": "white",
           "ticks": "",
           "title": {
            "standoff": 15
           },
           "zerolinecolor": "white",
           "zerolinewidth": 2
          }
         }
        },
        "xaxis": {
         "anchor": "y",
         "domain": [
          0,
          1
         ],
         "title": {
          "text": "Gender"
         }
        },
        "yaxis": {
         "anchor": "x",
         "domain": [
          0,
          1
         ],
         "title": {
          "text": "value"
         }
        }
       }
      }
     },
     "metadata": {},
     "output_type": "display_data"
    }
   ],
   "source": [
    "# univariate analysis\n",
    "\n",
    "px.bar(df_obesity.value_counts(\"Gender\"))"
   ]
  },
  {
   "cell_type": "code",
   "execution_count": 28,
   "metadata": {},
   "outputs": [
    {
     "data": {
      "text/plain": [
       "count    2111.000000\n",
       "mean       23.972525\n",
       "std         6.308664\n",
       "min        14.000000\n",
       "25%        19.000000\n",
       "50%        22.000000\n",
       "75%        26.000000\n",
       "max        61.000000\n",
       "Name: Age, dtype: float64"
      ]
     },
     "execution_count": 28,
     "metadata": {},
     "output_type": "execute_result"
    }
   ],
   "source": [
    "df_obesity.Age.describe()"
   ]
  },
  {
   "cell_type": "code",
   "execution_count": 31,
   "metadata": {},
   "outputs": [],
   "source": [
    "# Age bucketing \n",
    "\n",
    "bins = [10, 20, 30, 40, 50, 60, 70]\n",
    "bins_ordinal = [0, 1, 2, 3, 4, 5]\n",
    "age_group_labels = ['10-20', '20-30', '30-40', '40-50', '50-60', '60-70']\n",
    "df_obesity['age_group_string'] = pd.cut(x = df_obesity[\"Age\"], bins = bins, labels=age_group_labels, include_lowest = True)\n",
    "df_obesity['age_group'] = pd.cut(x = df_obesity[\"Age\"], bins = bins, labels=bins_ordinal, include_lowest = True)"
   ]
  },
  {
   "cell_type": "code",
   "execution_count": null,
   "metadata": {},
   "outputs": [],
   "source": []
  },
  {
   "cell_type": "code",
   "execution_count": 35,
   "metadata": {},
   "outputs": [
    {
     "data": {
      "text/plain": [
       "<statsmodels.stats.contingency_tables.Table at 0x172a71d6810>"
      ]
     },
     "execution_count": 35,
     "metadata": {},
     "output_type": "execute_result"
    }
   ],
   "source": [
    "# Contingenny table\n",
    "age_group_contigency_table = sm.stats.Table.from_data(df_obesity[[\"NObeyesdad\", \"age_group\"]])"
   ]
  },
  {
   "cell_type": "code",
   "execution_count": 40,
   "metadata": {},
   "outputs": [
    {
     "data": {
      "text/html": [
       "<div>\n",
       "<style scoped>\n",
       "    .dataframe tbody tr th:only-of-type {\n",
       "        vertical-align: middle;\n",
       "    }\n",
       "\n",
       "    .dataframe tbody tr th {\n",
       "        vertical-align: top;\n",
       "    }\n",
       "\n",
       "    .dataframe thead th {\n",
       "        text-align: right;\n",
       "    }\n",
       "</style>\n",
       "<table border=\"1\" class=\"dataframe\">\n",
       "  <thead>\n",
       "    <tr style=\"text-align: right;\">\n",
       "      <th>age_group</th>\n",
       "      <th>0</th>\n",
       "      <th>1</th>\n",
       "      <th>2</th>\n",
       "      <th>3</th>\n",
       "      <th>4</th>\n",
       "      <th>5</th>\n",
       "    </tr>\n",
       "    <tr>\n",
       "      <th>NObeyesdad</th>\n",
       "      <th></th>\n",
       "      <th></th>\n",
       "      <th></th>\n",
       "      <th></th>\n",
       "      <th></th>\n",
       "      <th></th>\n",
       "    </tr>\n",
       "  </thead>\n",
       "  <tbody>\n",
       "    <tr>\n",
       "      <th>Insufficient_Weight</th>\n",
       "      <td>198</td>\n",
       "      <td>71</td>\n",
       "      <td>3</td>\n",
       "      <td>0</td>\n",
       "      <td>0</td>\n",
       "      <td>0</td>\n",
       "    </tr>\n",
       "    <tr>\n",
       "      <th>Normal_Weight</th>\n",
       "      <td>132</td>\n",
       "      <td>137</td>\n",
       "      <td>16</td>\n",
       "      <td>0</td>\n",
       "      <td>1</td>\n",
       "      <td>1</td>\n",
       "    </tr>\n",
       "    <tr>\n",
       "      <th>Obesity_Type_I</th>\n",
       "      <td>92</td>\n",
       "      <td>177</td>\n",
       "      <td>66</td>\n",
       "      <td>15</td>\n",
       "      <td>1</td>\n",
       "      <td>0</td>\n",
       "    </tr>\n",
       "    <tr>\n",
       "      <th>Obesity_Type_II</th>\n",
       "      <td>8</td>\n",
       "      <td>224</td>\n",
       "      <td>61</td>\n",
       "      <td>4</td>\n",
       "      <td>0</td>\n",
       "      <td>0</td>\n",
       "    </tr>\n",
       "    <tr>\n",
       "      <th>Obesity_Type_III</th>\n",
       "      <td>76</td>\n",
       "      <td>248</td>\n",
       "      <td>0</td>\n",
       "      <td>0</td>\n",
       "      <td>0</td>\n",
       "      <td>0</td>\n",
       "    </tr>\n",
       "    <tr>\n",
       "      <th>Overweight_Level_I</th>\n",
       "      <td>99</td>\n",
       "      <td>151</td>\n",
       "      <td>37</td>\n",
       "      <td>2</td>\n",
       "      <td>1</td>\n",
       "      <td>0</td>\n",
       "    </tr>\n",
       "    <tr>\n",
       "      <th>Overweight_Level_II</th>\n",
       "      <td>69</td>\n",
       "      <td>130</td>\n",
       "      <td>75</td>\n",
       "      <td>11</td>\n",
       "      <td>5</td>\n",
       "      <td>0</td>\n",
       "    </tr>\n",
       "  </tbody>\n",
       "</table>\n",
       "</div>"
      ],
      "text/plain": [
       "age_group              0    1   2   3  4  5\n",
       "NObeyesdad                                 \n",
       "Insufficient_Weight  198   71   3   0  0  0\n",
       "Normal_Weight        132  137  16   0  1  1\n",
       "Obesity_Type_I        92  177  66  15  1  0\n",
       "Obesity_Type_II        8  224  61   4  0  0\n",
       "Obesity_Type_III      76  248   0   0  0  0\n",
       "Overweight_Level_I    99  151  37   2  1  0\n",
       "Overweight_Level_II   69  130  75  11  5  0"
      ]
     },
     "execution_count": 40,
     "metadata": {},
     "output_type": "execute_result"
    }
   ],
   "source": [
    "age_group_contigency_table.table_orig"
   ]
  },
  {
   "cell_type": "code",
   "execution_count": 41,
   "metadata": {},
   "outputs": [
    {
     "ename": "ValueError",
     "evalue": "could not convert string to float: 'Female'",
     "output_type": "error",
     "traceback": [
      "\u001b[1;31m---------------------------------------------------------------------------\u001b[0m",
      "\u001b[1;31mValueError\u001b[0m                                Traceback (most recent call last)",
      "Cell \u001b[1;32mIn[41], line 1\u001b[0m\n\u001b[1;32m----> 1\u001b[0m \u001b[43mdf_obesity\u001b[49m\u001b[38;5;241;43m.\u001b[39;49m\u001b[43mcorr\u001b[49m\u001b[43m(\u001b[49m\u001b[43m)\u001b[49m\n",
      "File \u001b[1;32mc:\\Users\\55119\\.virtualenvs\\classificacaoNaiveBayes-ySWTnSgZ\\Lib\\site-packages\\pandas\\core\\frame.py:11049\u001b[0m, in \u001b[0;36mDataFrame.corr\u001b[1;34m(self, method, min_periods, numeric_only)\u001b[0m\n\u001b[0;32m  11047\u001b[0m cols \u001b[38;5;241m=\u001b[39m data\u001b[38;5;241m.\u001b[39mcolumns\n\u001b[0;32m  11048\u001b[0m idx \u001b[38;5;241m=\u001b[39m cols\u001b[38;5;241m.\u001b[39mcopy()\n\u001b[1;32m> 11049\u001b[0m mat \u001b[38;5;241m=\u001b[39m \u001b[43mdata\u001b[49m\u001b[38;5;241;43m.\u001b[39;49m\u001b[43mto_numpy\u001b[49m\u001b[43m(\u001b[49m\u001b[43mdtype\u001b[49m\u001b[38;5;241;43m=\u001b[39;49m\u001b[38;5;28;43mfloat\u001b[39;49m\u001b[43m,\u001b[49m\u001b[43m \u001b[49m\u001b[43mna_value\u001b[49m\u001b[38;5;241;43m=\u001b[39;49m\u001b[43mnp\u001b[49m\u001b[38;5;241;43m.\u001b[39;49m\u001b[43mnan\u001b[49m\u001b[43m,\u001b[49m\u001b[43m \u001b[49m\u001b[43mcopy\u001b[49m\u001b[38;5;241;43m=\u001b[39;49m\u001b[38;5;28;43;01mFalse\u001b[39;49;00m\u001b[43m)\u001b[49m\n\u001b[0;32m  11051\u001b[0m \u001b[38;5;28;01mif\u001b[39;00m method \u001b[38;5;241m==\u001b[39m \u001b[38;5;124m\"\u001b[39m\u001b[38;5;124mpearson\u001b[39m\u001b[38;5;124m\"\u001b[39m:\n\u001b[0;32m  11052\u001b[0m     correl \u001b[38;5;241m=\u001b[39m libalgos\u001b[38;5;241m.\u001b[39mnancorr(mat, minp\u001b[38;5;241m=\u001b[39mmin_periods)\n",
      "File \u001b[1;32mc:\\Users\\55119\\.virtualenvs\\classificacaoNaiveBayes-ySWTnSgZ\\Lib\\site-packages\\pandas\\core\\frame.py:1993\u001b[0m, in \u001b[0;36mDataFrame.to_numpy\u001b[1;34m(self, dtype, copy, na_value)\u001b[0m\n\u001b[0;32m   1991\u001b[0m \u001b[38;5;28;01mif\u001b[39;00m dtype \u001b[38;5;129;01mis\u001b[39;00m \u001b[38;5;129;01mnot\u001b[39;00m \u001b[38;5;28;01mNone\u001b[39;00m:\n\u001b[0;32m   1992\u001b[0m     dtype \u001b[38;5;241m=\u001b[39m np\u001b[38;5;241m.\u001b[39mdtype(dtype)\n\u001b[1;32m-> 1993\u001b[0m result \u001b[38;5;241m=\u001b[39m \u001b[38;5;28;43mself\u001b[39;49m\u001b[38;5;241;43m.\u001b[39;49m\u001b[43m_mgr\u001b[49m\u001b[38;5;241;43m.\u001b[39;49m\u001b[43mas_array\u001b[49m\u001b[43m(\u001b[49m\u001b[43mdtype\u001b[49m\u001b[38;5;241;43m=\u001b[39;49m\u001b[43mdtype\u001b[49m\u001b[43m,\u001b[49m\u001b[43m \u001b[49m\u001b[43mcopy\u001b[49m\u001b[38;5;241;43m=\u001b[39;49m\u001b[43mcopy\u001b[49m\u001b[43m,\u001b[49m\u001b[43m \u001b[49m\u001b[43mna_value\u001b[49m\u001b[38;5;241;43m=\u001b[39;49m\u001b[43mna_value\u001b[49m\u001b[43m)\u001b[49m\n\u001b[0;32m   1994\u001b[0m \u001b[38;5;28;01mif\u001b[39;00m result\u001b[38;5;241m.\u001b[39mdtype \u001b[38;5;129;01mis\u001b[39;00m \u001b[38;5;129;01mnot\u001b[39;00m dtype:\n\u001b[0;32m   1995\u001b[0m     result \u001b[38;5;241m=\u001b[39m np\u001b[38;5;241m.\u001b[39masarray(result, dtype\u001b[38;5;241m=\u001b[39mdtype)\n",
      "File \u001b[1;32mc:\\Users\\55119\\.virtualenvs\\classificacaoNaiveBayes-ySWTnSgZ\\Lib\\site-packages\\pandas\\core\\internals\\managers.py:1694\u001b[0m, in \u001b[0;36mBlockManager.as_array\u001b[1;34m(self, dtype, copy, na_value)\u001b[0m\n\u001b[0;32m   1692\u001b[0m         arr\u001b[38;5;241m.\u001b[39mflags\u001b[38;5;241m.\u001b[39mwriteable \u001b[38;5;241m=\u001b[39m \u001b[38;5;28;01mFalse\u001b[39;00m\n\u001b[0;32m   1693\u001b[0m \u001b[38;5;28;01melse\u001b[39;00m:\n\u001b[1;32m-> 1694\u001b[0m     arr \u001b[38;5;241m=\u001b[39m \u001b[38;5;28;43mself\u001b[39;49m\u001b[38;5;241;43m.\u001b[39;49m\u001b[43m_interleave\u001b[49m\u001b[43m(\u001b[49m\u001b[43mdtype\u001b[49m\u001b[38;5;241;43m=\u001b[39;49m\u001b[43mdtype\u001b[49m\u001b[43m,\u001b[49m\u001b[43m \u001b[49m\u001b[43mna_value\u001b[49m\u001b[38;5;241;43m=\u001b[39;49m\u001b[43mna_value\u001b[49m\u001b[43m)\u001b[49m\n\u001b[0;32m   1695\u001b[0m     \u001b[38;5;66;03m# The underlying data was copied within _interleave, so no need\u001b[39;00m\n\u001b[0;32m   1696\u001b[0m     \u001b[38;5;66;03m# to further copy if copy=True or setting na_value\u001b[39;00m\n\u001b[0;32m   1698\u001b[0m \u001b[38;5;28;01mif\u001b[39;00m na_value \u001b[38;5;129;01mis\u001b[39;00m lib\u001b[38;5;241m.\u001b[39mno_default:\n",
      "File \u001b[1;32mc:\\Users\\55119\\.virtualenvs\\classificacaoNaiveBayes-ySWTnSgZ\\Lib\\site-packages\\pandas\\core\\internals\\managers.py:1753\u001b[0m, in \u001b[0;36mBlockManager._interleave\u001b[1;34m(self, dtype, na_value)\u001b[0m\n\u001b[0;32m   1751\u001b[0m     \u001b[38;5;28;01melse\u001b[39;00m:\n\u001b[0;32m   1752\u001b[0m         arr \u001b[38;5;241m=\u001b[39m blk\u001b[38;5;241m.\u001b[39mget_values(dtype)\n\u001b[1;32m-> 1753\u001b[0m     \u001b[43mresult\u001b[49m\u001b[43m[\u001b[49m\u001b[43mrl\u001b[49m\u001b[38;5;241;43m.\u001b[39;49m\u001b[43mindexer\u001b[49m\u001b[43m]\u001b[49m \u001b[38;5;241m=\u001b[39m arr\n\u001b[0;32m   1754\u001b[0m     itemmask[rl\u001b[38;5;241m.\u001b[39mindexer] \u001b[38;5;241m=\u001b[39m \u001b[38;5;241m1\u001b[39m\n\u001b[0;32m   1756\u001b[0m \u001b[38;5;28;01mif\u001b[39;00m \u001b[38;5;129;01mnot\u001b[39;00m itemmask\u001b[38;5;241m.\u001b[39mall():\n",
      "\u001b[1;31mValueError\u001b[0m: could not convert string to float: 'Female'"
     ]
    }
   ],
   "source": [
    "df_obesity.corr()"
   ]
  },
  {
   "cell_type": "code",
   "execution_count": null,
   "metadata": {},
   "outputs": [],
   "source": [
    "# A fazer: onehotenconding da variavel obesidade, mudar genero e outras variaveis categoricas para binario."
   ]
  }
 ],
 "metadata": {
  "kernelspec": {
   "display_name": "classificacaoNaiveBayes-ySWTnSgZ",
   "language": "python",
   "name": "python3"
  },
  "language_info": {
   "codemirror_mode": {
    "name": "ipython",
    "version": 3
   },
   "file_extension": ".py",
   "mimetype": "text/x-python",
   "name": "python",
   "nbconvert_exporter": "python",
   "pygments_lexer": "ipython3",
   "version": "3.12.4"
  }
 },
 "nbformat": 4,
 "nbformat_minor": 2
}
